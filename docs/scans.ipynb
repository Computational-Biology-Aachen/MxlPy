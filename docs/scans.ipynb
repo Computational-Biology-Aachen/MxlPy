{
 "cells": [
  {
   "cell_type": "code",
   "execution_count": null,
   "metadata": {},
   "outputs": [],
   "source": [
    "import numpy as np\n",
    "import pandas as pd\n",
    "from example_models import get_linear_chain_2v, get_poolman2000, get_upper_glycolysis\n",
    "from matplotlib import pyplot as plt\n",
    "\n",
    "import modelbase2 as mb2\n",
    "from modelbase2 import Simulator, mc, mca, plot\n",
    "from modelbase2.distributions import LogNormal, Uniform, sample\n",
    "\n",
    "\n",
    "def make_protocol(steps: dict[float, dict[str, float]]) -> pd.DataFrame:\n",
    "    data = {}\n",
    "\n",
    "    t0 = pd.Timedelta(0)\n",
    "    for step, pars in steps.items():\n",
    "        t0 += pd.Timedelta(seconds=step)\n",
    "        data[t0] = pars\n",
    "    return pd.DataFrame(data).T"
   ]
  },
  {
   "cell_type": "markdown",
   "metadata": {},
   "source": [
    "## Simulation"
   ]
  },
  {
   "cell_type": "markdown",
   "metadata": {},
   "source": [
    "### Steady-state\n",
    "\n",
    "You can simulate until the model reaches a steady-state using the `simulate_to_steady_state` method.  \n"
   ]
  },
  {
   "cell_type": "code",
   "execution_count": null,
   "metadata": {},
   "outputs": [],
   "source": [
    "concs, fluxes = (\n",
    "    Simulator(get_linear_chain_2v())  # optionally supply initial conditions\n",
    "    .simulate_to_steady_state()\n",
    "    .get_concs_and_fluxes()\n",
    ")\n",
    "concs"
   ]
  },
  {
   "cell_type": "markdown",
   "metadata": {},
   "source": [
    "### Time series\n",
    "\n",
    "You can obtain the time series of integration using the `simulate` method.  \n",
    "There are three ways how you can define the time points this function returns.  \n",
    "\n",
    "1. supply the end time `t_end`\n",
    "2. supply both end time and number of steps with `steps`\n",
    "3. supply the exact time points to be returned using `time_points`\n",
    "\n",
    "```python\n",
    "simulate(t_end=10)\n",
    "simulate(t_end=10, steps=10)\n",
    "simulate(time_points=np.linspace(0, 10, 11))\n",
    "```\n",
    "\n",
    "> Note that these settings don't change the integration itself (e.g. tolerances)!"
   ]
  },
  {
   "cell_type": "code",
   "execution_count": null,
   "metadata": {},
   "outputs": [],
   "source": [
    "concs, fluxes = (\n",
    "    Simulator(get_linear_chain_2v())  # optionally supply initial conditions\n",
    "    .simulate(t_end=10)\n",
    "    .get_concs_and_fluxes()\n",
    ")\n",
    "\n",
    "if concs is not None:\n",
    "    _ = plot.lines(concs)\n",
    "    plt.show()"
   ]
  },
  {
   "cell_type": "markdown",
   "metadata": {},
   "source": [
    "### Protocol time series\n",
    "\n",
    "Protocols are used to make parameter changes discrete in time.  \n",
    "This is useful e.g. for reproducing experimental time courses where a parameter was changed at fixed time points.  "
   ]
  },
  {
   "cell_type": "code",
   "execution_count": null,
   "metadata": {},
   "outputs": [],
   "source": [
    "protocol = make_protocol(\n",
    "    {\n",
    "        1: {\"k1\": 1},\n",
    "        2: {\"k1\": 2},\n",
    "        3: {\"k1\": 1},\n",
    "    }\n",
    ")\n",
    "concs, fluxes = (\n",
    "    Simulator(get_linear_chain_2v())\n",
    "    .simulate_over_protocol(protocol)\n",
    "    .get_concs_and_fluxes()\n",
    ")\n",
    "\n",
    "if concs is not None:\n",
    "    fig, ax = plt.subplots()\n",
    "    plot.lines(concs, ax=ax)\n",
    "    plot.shade_protocol(protocol[\"k1\"], ax=ax, alpha=0.1)\n"
   ]
  },
  {
   "cell_type": "markdown",
   "metadata": {},
   "source": [
    "## Parameter scans\n",
    "\n",
    "`modelbase` has a variety of parameter scans available.  \n",
    "They differ by the kind of data returned by them, e.g. steady-states or time series of concentration and fluxes.\n",
    "\n",
    "In all cases, the parameters which you want to scan over are passed as a `pandas.DataFrame`."
   ]
  },
  {
   "cell_type": "markdown",
   "metadata": {},
   "source": [
    "### Steady-state"
   ]
  },
  {
   "cell_type": "code",
   "execution_count": null,
   "metadata": {},
   "outputs": [],
   "source": [
    "scan = mb2.parameter_scan_ss(\n",
    "    get_linear_chain_2v(),\n",
    "    parameters=pd.DataFrame({\"k1\": np.linspace(1, 2, 11)}),\n",
    ")\n",
    "\n",
    "fig, (ax1, ax2) = plot.two_axes(figsize=(7, 3))\n",
    "plot.lines(scan.concs, ax=ax1)\n",
    "plot.lines(scan.fluxes, ax=ax2)\n",
    "plt.show()"
   ]
  },
  {
   "cell_type": "markdown",
   "metadata": {},
   "source": [
    "All scans return some kind of result object, which allow multiple access patterns for convenience. \n",
    "\n",
    "Namely, the concentrations and fluxes can be accessed by name, unpacked or combined into a single dataframe."
   ]
  },
  {
   "cell_type": "code",
   "execution_count": null,
   "metadata": {},
   "outputs": [],
   "source": [
    "# Access by name\n",
    "_ = scan.concs\n",
    "_ = scan.fluxes\n",
    "\n",
    "# scan can be unpacked\n",
    "concs, fluxes = scan\n",
    "\n",
    "# combine concs and fluxes as single dataframe\n",
    "_ = scan.results\n"
   ]
  },
  {
   "cell_type": "markdown",
   "metadata": {},
   "source": [
    "#### Combinations\n",
    "\n",
    "Often you want to scan over multiple parameters at the same time.  \n",
    "The recommended way to do this is to use the `cartesian_product` function, which takes a `parameter_name: values` mapping and creates a `pandas.DataFrame` of their combinations from it (think nested for loop).  \n",
    "\n",
    "In the case of more than one parameter, the returned `pandas.DataFrame` contains a `pandas.MultiIndex`.  "
   ]
  },
  {
   "cell_type": "code",
   "execution_count": null,
   "metadata": {},
   "outputs": [],
   "source": [
    "scan = mb2.parameter_scan_ss(\n",
    "    get_linear_chain_2v(),\n",
    "    mb2.cartesian_product(\n",
    "        {\n",
    "            \"k1\": np.linspace(1, 2, 3),\n",
    "            \"k2\": np.linspace(1, 2, 4),\n",
    "        }\n",
    "    ),\n",
    ")\n",
    "\n",
    "scan.results.head()\n"
   ]
  },
  {
   "cell_type": "markdown",
   "metadata": {},
   "source": [
    "You can plot the results of this scan using a heatmap"
   ]
  },
  {
   "cell_type": "code",
   "execution_count": null,
   "metadata": {},
   "outputs": [],
   "source": [
    "plot.heatmap_from_2d_idx(scan.concs, variable=\"x\")\n",
    "plt.show()"
   ]
  },
  {
   "cell_type": "markdown",
   "metadata": {},
   "source": [
    "Or create heatmaps of all passed variables at once.  "
   ]
  },
  {
   "cell_type": "code",
   "execution_count": null,
   "metadata": {},
   "outputs": [],
   "source": [
    "plot.heatmaps_from_2d_idx(scan.concs)\n",
    "plt.show()"
   ]
  },
  {
   "cell_type": "markdown",
   "metadata": {},
   "source": [
    "You can also combine more than two parameters, however, visualisation becomes challenging.  "
   ]
  },
  {
   "cell_type": "code",
   "execution_count": null,
   "metadata": {},
   "outputs": [],
   "source": [
    "scan = mb2.parameter_scan_ss(\n",
    "    get_linear_chain_2v(),\n",
    "    mb2.cartesian_product(\n",
    "        {\n",
    "            \"k1\": np.linspace(1, 2, 3),\n",
    "            \"k2\": np.linspace(1, 2, 4),\n",
    "            \"k3\": np.linspace(1, 2, 4),\n",
    "        }\n",
    "    ),\n",
    ")\n",
    "scan.results.head()"
   ]
  },
  {
   "cell_type": "markdown",
   "metadata": {},
   "source": [
    "### Time-series\n",
    "\n",
    "You can perform a time series for each of the parameter values.  \n",
    "The index now also contains the time, so even for one parameter a `pandas.MultiIndex` is used."
   ]
  },
  {
   "cell_type": "code",
   "execution_count": null,
   "metadata": {},
   "outputs": [],
   "source": [
    "tss = mb2.parameter_scan_time_series(\n",
    "    get_linear_chain_2v(),\n",
    "    parameters=pd.DataFrame({\"k1\": np.linspace(1, 2, 11)}),\n",
    "    time_points=np.linspace(0, 1, 11),\n",
    ")\n",
    "\n",
    "fig, (ax1, ax2) = plot.two_axes(figsize=(7, 4))\n",
    "plot.lines_mean_std_from_2d_idx(tss.concs, ax=ax1)\n",
    "plot.lines_mean_std_from_2d_idx(tss.fluxes, ax=ax2)\n",
    "plt.show()"
   ]
  },
  {
   "cell_type": "markdown",
   "metadata": {},
   "source": [
    "Again, this works for an arbitray number of parameters."
   ]
  },
  {
   "cell_type": "code",
   "execution_count": null,
   "metadata": {},
   "outputs": [],
   "source": [
    "tss = mb2.parameter_scan_time_series(\n",
    "    get_linear_chain_2v(),\n",
    "    parameters=mb2.cartesian_product(\n",
    "        {\n",
    "            \"k1\": np.linspace(1, 2, 11),\n",
    "            \"k2\": np.linspace(1, 2, 4),\n",
    "        }\n",
    "    ),\n",
    "    time_points=np.linspace(0, 1, 11),\n",
    ")\n",
    "\n",
    "\n",
    "fig, (ax1, ax2) = plot.two_axes(figsize=(7, 4))\n",
    "plot.lines_mean_std_from_2d_idx(tss.concs, ax=ax1)\n",
    "plot.lines_mean_std_from_2d_idx(tss.fluxes, ax=ax2)\n",
    "plt.show()"
   ]
  },
  {
   "cell_type": "markdown",
   "metadata": {},
   "source": [
    "The scan object returned has a `pandas.MultiIndex` of `n x time`, where `n` is an index that references parameter combinations.  \n",
    "You can access the referenced parameters using `.parameters`"
   ]
  },
  {
   "cell_type": "code",
   "execution_count": null,
   "metadata": {},
   "outputs": [],
   "source": [
    "tss.parameters.head()"
   ]
  },
  {
   "cell_type": "markdown",
   "metadata": {},
   "source": [
    "You can also easily access common aggregates using `get_agg_per_time`.  "
   ]
  },
  {
   "cell_type": "code",
   "execution_count": null,
   "metadata": {},
   "outputs": [],
   "source": [
    "tss.get_agg_per_time(\"std\").head()"
   ]
  },
  {
   "cell_type": "markdown",
   "metadata": {},
   "source": [
    "### Protocol\n",
    "\n",
    "The same can be done for protocols.  "
   ]
  },
  {
   "cell_type": "code",
   "execution_count": null,
   "metadata": {},
   "outputs": [],
   "source": [
    "scan = mb2.parameter_scan_protocol(\n",
    "    get_linear_chain_2v(),\n",
    "    parameters=pd.DataFrame({\"k2\": np.linspace(1, 2, 11)}),\n",
    "    protocol=make_protocol(\n",
    "        {\n",
    "            1: {\"k1\": 1},\n",
    "            2: {\"k1\": 2},\n",
    "            3: {\"k1\": 1},\n",
    "        }\n",
    "    ),\n",
    ")\n",
    "\n",
    "fig, (ax1, ax2) = plot.two_axes(figsize=(7, 4))\n",
    "plot.lines_mean_std_from_2d_idx(scan.concs, ax=ax1)\n",
    "plot.lines_mean_std_from_2d_idx(scan.fluxes, ax=ax2)\n",
    "\n",
    "for ax in (ax1, ax2):\n",
    "    plot.shade_protocol(scan.protocol[\"k1\"], ax=ax, alpha=0.2)\n",
    "plt.show()"
   ]
  },
  {
   "cell_type": "markdown",
   "metadata": {},
   "source": [
    "## Metabolic control analysis\n",
    "\n",
    "`modelbase` supports both elasticities (arbitrary state) and response coefficients (steady-state) measurements from metabolic control analysis.  \n",
    "They can all be found in the `modelbase2.mca` namespace.  "
   ]
  },
  {
   "cell_type": "markdown",
   "metadata": {},
   "source": [
    "### Variable elasticities\n",
    "\n",
    "Variable elasticities are the sensitivity of reactions to a small change in the concentration of a variable.  \n",
    "They are **not** a steady-state measurement and can be calculated for any arbitrary state.  \n",
    "\n",
    "Both the `concs` and `variables` arguments are optional.  \n",
    "If `concs` is not supplied, the routine will use the initial conditions from the model.  \n",
    "If `variables` is not supplied, the elasticities will be calculated for all variables.  "
   ]
  },
  {
   "cell_type": "code",
   "execution_count": null,
   "metadata": {},
   "outputs": [],
   "source": [
    "elas = mca.variable_elasticities(\n",
    "    get_upper_glycolysis(),\n",
    "    concs={\n",
    "        \"GLC\": 0.3,\n",
    "        \"G6P\": 0.4,\n",
    "        \"F6P\": 0.5,\n",
    "        \"FBP\": 0.6,\n",
    "        \"ATP\": 0.4,\n",
    "        \"ADP\": 0.6,\n",
    "    },\n",
    "    variables=[\"GLC\", \"F6P\"],\n",
    ")\n",
    "\n",
    "_ = plot.heatmap(elas)\n",
    "plt.show()"
   ]
  },
  {
   "cell_type": "markdown",
   "metadata": {},
   "source": [
    "### Parameter elasticities\n",
    "\n",
    "Parameter elasticities are the sensitivity of reactions to a small change in the concentration of a variable.  \n",
    "They are **not** a steady-state measurement and can be calculated for any arbitrary state.  \n",
    "\n",
    "Both the `concs` and `parameters` arguments are optional.  \n",
    "If `concs` is not supplied, the routine will use the initial conditions from the model.  \n",
    "If `parameters` is not supplied, the elasticities will be calculated for all parameters.  "
   ]
  },
  {
   "cell_type": "code",
   "execution_count": null,
   "metadata": {},
   "outputs": [],
   "source": [
    "elas = mca.parameter_elasticities(\n",
    "    get_upper_glycolysis(),\n",
    "    concs={\n",
    "        \"GLC\": 0.3,\n",
    "        \"G6P\": 0.4,\n",
    "        \"F6P\": 0.5,\n",
    "        \"FBP\": 0.6,\n",
    "        \"ATP\": 0.4,\n",
    "        \"ADP\": 0.6,\n",
    "    },\n",
    "    parameters=[\"k1\", \"k2\"],\n",
    ")\n",
    "\n",
    "_ = plot.heatmap(elas)\n",
    "plt.show()"
   ]
  },
  {
   "cell_type": "markdown",
   "metadata": {},
   "source": [
    "### Response coefficients\n",
    "\n",
    "Response coefficients show the sensitivity of variables and reactions **at steady-state** to a small change in a parameter.  \n",
    "\n",
    "If the parameter is proportional to the rate, they are also called **control coefficients**."
   ]
  },
  {
   "cell_type": "code",
   "execution_count": null,
   "metadata": {},
   "outputs": [],
   "source": [
    "crcs, frcs = mca.response_coefficients(\n",
    "    get_upper_glycolysis(),\n",
    "    parameters=[\"k1\", \"k2\", \"k3\", \"k4\", \"k5\", \"k6\", \"k7\"],\n",
    ")\n",
    "\n",
    "fig, (ax1, ax2) = plt.subplots(1, 2, figsize=(12, 4))\n",
    "_ = plot.heatmap(crcs, ax=ax1)\n",
    "_ = plot.heatmap(frcs, ax=ax2)\n",
    "plt.show()"
   ]
  },
  {
   "cell_type": "markdown",
   "metadata": {},
   "source": [
    "## Monte-carlo scans\n",
    "\n",
    "Most model parameters in the natural sciences are typically best described using **distributions**.  \n",
    "Thus, to get the distribution of realistic behaviour, `modelbase` supplies monte-carlo methods of all other analyses.\n",
    "\n",
    "For that, you supply a `pandas.DataFrame` of parameter values randomly drawn from different distributions.  \n",
    "You can use the `sample` function and distributions supplied by modelbase.  "
   ]
  },
  {
   "cell_type": "code",
   "execution_count": null,
   "metadata": {},
   "outputs": [],
   "source": [
    "sample(\n",
    "    {\n",
    "        \"k2\": Uniform(1.0, 2.0),\n",
    "        \"k3\": LogNormal(mean=1.0, sigma=1.0),\n",
    "    },\n",
    "    n=5,\n",
    ")"
   ]
  },
  {
   "cell_type": "markdown",
   "metadata": {},
   "source": [
    "If you want to create custom distributions, all you need to do is to create a class that follows the `Distribution` protocol, e.g. implements a sample function.  \n",
    "\n",
    "```python\n",
    "class MyOwnDistribution:\n",
    "    def sample(self, num: int) -> Array:\n",
    "        # implement here\n",
    "```\n",
    "\n",
    "and it can be used in the `sample` function as well. "
   ]
  },
  {
   "cell_type": "markdown",
   "metadata": {},
   "source": [
    "### monte-carlo steady-states\n",
    "\n",
    "Using `mc.steady_state` you can calculate the steady-state distribution given the monte-carlo parameters.  "
   ]
  },
  {
   "cell_type": "code",
   "execution_count": null,
   "metadata": {},
   "outputs": [],
   "source": [
    "scan = mc.steady_state(\n",
    "    get_linear_chain_2v(),\n",
    "    mc_parameters=sample(\n",
    "        {\n",
    "            \"k1\": Uniform(0.9, 1.1),\n",
    "            \"k2\": Uniform(1.0, 1.3),\n",
    "            \"k3\": LogNormal(mean=1.0, sigma=0.2),\n",
    "        },\n",
    "        n=10,\n",
    "    ),\n",
    ")\n",
    "\n",
    "fig, (ax1, ax2) = plot.two_axes(figsize=(7, 4), sharex=False)\n",
    "plot.violins(scan.concs, ax=ax1)\n",
    "plot.violins(scan.fluxes, ax=ax2)\n",
    "plt.show()"
   ]
  },
  {
   "cell_type": "markdown",
   "metadata": {},
   "source": [
    "### monte-carlo time series\n",
    "\n",
    "Using `mc.time_course` you can calculate time courses for sampled parameters.  \n",
    "\n",
    "The `pandas.DataFrame`s for concentrations and fluxes have a `n x time` `pandas.MultiIndex`.  \n",
    "The corresponding parameters can be found in `scan.parameters`"
   ]
  },
  {
   "cell_type": "code",
   "execution_count": null,
   "metadata": {},
   "outputs": [],
   "source": [
    "scan = mc.time_course(\n",
    "    get_linear_chain_2v(),\n",
    "    time_points=np.linspace(0, 1, 11),\n",
    "    mc_parameters=sample(\n",
    "        {\n",
    "            \"k1\": Uniform(0.9, 1.1),\n",
    "            \"k2\": Uniform(1.0, 1.3),\n",
    "            \"k3\": LogNormal(mean=1.0, sigma=0.2),\n",
    "        },\n",
    "        n=10,\n",
    "    ),\n",
    ")\n",
    "\n",
    "fig, (ax1, ax2) = plot.two_axes(figsize=(7, 4))\n",
    "plot.lines_mean_std_from_2d_idx(scan.concs, ax=ax1)\n",
    "plot.lines_mean_std_from_2d_idx(scan.fluxes, ax=ax2)\n",
    "plt.show()"
   ]
  },
  {
   "cell_type": "markdown",
   "metadata": {},
   "source": [
    "### mc protocol\n",
    "\n",
    "\n",
    "Using `mc.time_course_over_protocol` you can calculate time courses for sampled parameters given a discrete protocol.  \n",
    "\n",
    "The `pandas.DataFrame`s for concentrations and fluxes have a `n x time` `pandas.MultiIndex`.  \n",
    "The corresponding parameters can be found in `scan.parameters`"
   ]
  },
  {
   "cell_type": "code",
   "execution_count": null,
   "metadata": {},
   "outputs": [],
   "source": [
    "scan = mc.time_course_over_protocol(\n",
    "    get_linear_chain_2v(),\n",
    "    time_points_per_step=10,\n",
    "    protocol=make_protocol(\n",
    "        {\n",
    "            1: {\"k1\": 1},\n",
    "            2: {\"k1\": 2},\n",
    "            3: {\"k1\": 1},\n",
    "        }\n",
    "    ),\n",
    "    mc_parameters=sample(\n",
    "        {\n",
    "            \"k2\": Uniform(1.0, 1.3),\n",
    "            \"k3\": LogNormal(mean=1.0, sigma=0.2),\n",
    "        },\n",
    "        n=10,\n",
    "    ),\n",
    ")\n",
    "\n",
    "fig, (ax1, ax2) = plot.two_axes(figsize=(7, 4))\n",
    "plot.lines_mean_std_from_2d_idx(scan.concs, ax=ax1)\n",
    "plot.lines_mean_std_from_2d_idx(scan.fluxes, ax=ax2)\n",
    "for ax in (ax1, ax2):\n",
    "    plot.shade_protocol(scan.protocol[\"k1\"], ax=ax, alpha=0.1)\n",
    "\n",
    "plt.show()"
   ]
  },
  {
   "cell_type": "markdown",
   "metadata": {},
   "source": [
    "### mc metabolic control analysis"
   ]
  },
  {
   "cell_type": "markdown",
   "metadata": {},
   "source": [
    "#### Compound elasticities\n",
    "\n",
    "The returned `pandas.DataFrame` has a `pd.MultiIndex` of shape `n x reaction`.  "
   ]
  },
  {
   "cell_type": "code",
   "execution_count": null,
   "metadata": {},
   "outputs": [],
   "source": [
    "elas = mc.compound_elasticities(\n",
    "    get_upper_glycolysis(),\n",
    "    concs={\n",
    "        \"GLC\": 0.3,\n",
    "        \"G6P\": 0.4,\n",
    "        \"F6P\": 0.5,\n",
    "        \"FBP\": 0.6,\n",
    "        \"ATP\": 0.4,\n",
    "        \"ADP\": 0.6,\n",
    "    },\n",
    "    variables=[\"GLC\", \"F6P\"],\n",
    "    mc_parameters=sample(\n",
    "        {\n",
    "            # \"k1\": LogNormal(mean=np.log(0.25), sigma=1.0),\n",
    "            # \"k2\": LogNormal(mean=np.log(1.0), sigma=1.0),\n",
    "            \"k3\": LogNormal(mean=np.log(1.0), sigma=1.0),\n",
    "            # \"k4\": LogNormal(mean=np.log(1.0), sigma=1.0),\n",
    "            # \"k5\": LogNormal(mean=np.log(1.0), sigma=1.0),\n",
    "            # \"k6\": LogNormal(mean=np.log(1.0), sigma=1.0),\n",
    "            # \"k7\": LogNormal(mean=np.log(2.5), sigma=1.0),\n",
    "        },\n",
    "        n=5,\n",
    "    ),\n",
    ")\n",
    "\n",
    "_ = plot.violins_from_2d_idx(elas)\n",
    "plt.show()"
   ]
  },
  {
   "cell_type": "markdown",
   "metadata": {},
   "source": [
    "#### Parameter elasticities"
   ]
  },
  {
   "cell_type": "code",
   "execution_count": null,
   "metadata": {},
   "outputs": [],
   "source": [
    "elas = mc.parameter_elasticities(\n",
    "    get_upper_glycolysis(),\n",
    "    concs={\n",
    "        \"GLC\": 0.3,\n",
    "        \"G6P\": 0.4,\n",
    "        \"F6P\": 0.5,\n",
    "        \"FBP\": 0.6,\n",
    "        \"ATP\": 0.4,\n",
    "        \"ADP\": 0.6,\n",
    "    },\n",
    "    parameters=[\"k1\", \"k2\", \"k3\"],\n",
    "    mc_parameters=sample(\n",
    "        {\n",
    "            \"k3\": LogNormal(mean=np.log(0.25), sigma=1.0),\n",
    "        },\n",
    "        n=5,\n",
    "    ),\n",
    ")\n",
    "\n",
    "_ = plot.violins_from_2d_idx(elas)\n",
    "plt.show()"
   ]
  },
  {
   "cell_type": "markdown",
   "metadata": {},
   "source": [
    "#### Response coefficients"
   ]
  },
  {
   "cell_type": "code",
   "execution_count": null,
   "metadata": {},
   "outputs": [],
   "source": [
    "resp = mc.response_coefficients(\n",
    "    get_poolman2000(),\n",
    "    parameters=[\"Vmax_1\", \"Vmax_6\", \"Vmax_9\", \"Vmax_13\", \"Vmax_16\"],\n",
    "    mc_parameters=sample(\n",
    "        {\n",
    "            \"Vmax_1\": LogNormal(np.log(2.72), sigma=0.1),\n",
    "            \"Vmax_6\": LogNormal(np.log(1.6), sigma=0.1),\n",
    "            \"Vmax_9\": LogNormal(np.log(0.32), sigma=0.1),\n",
    "            \"Vmax_13\": LogNormal(np.log(8.0), sigma=0.1),\n",
    "            \"Vmax_16\": LogNormal(np.log(2.8), sigma=0.1),\n",
    "        },\n",
    "        n=5,\n",
    "    ),\n",
    ")\n",
    "\n",
    "_ = plot.violins_from_2d_idx(resp.concs.loc[:, [\"PGA\", \"GAP\", \"SBP\"]])\n",
    "plt.show()"
   ]
  },
  {
   "cell_type": "markdown",
   "metadata": {},
   "source": [
    "### mc steady-state parameter scan\n",
    "\n",
    "Vary **both** monte carlo parameters as well as systematically scan for other parameters"
   ]
  },
  {
   "cell_type": "code",
   "execution_count": null,
   "metadata": {},
   "outputs": [],
   "source": [
    "mcss = mc.parameter_scan_ss(\n",
    "    get_linear_chain_2v(),\n",
    "    parameters=pd.DataFrame({\"k1\": np.linspace(0, 1, 3)}),\n",
    "    mc_parameters=sample(\n",
    "        {\n",
    "            \"k2\": Uniform(1.0, 1.3),\n",
    "            \"k3\": LogNormal(mean=1.0, sigma=0.2),\n",
    "        },\n",
    "        n=10,\n",
    "    ),\n",
    ")\n",
    "\n",
    "plot.violins_from_2d_idx(mcss.concs)\n",
    "plt.show()"
   ]
  },
  {
   "cell_type": "code",
   "execution_count": null,
   "metadata": {},
   "outputs": [],
   "source": [
    "# FIXME: no idea how to plot this yet. Ridge plots?\n",
    "# Maybe it's just a bit much :D\n",
    "\n",
    "mcss = mc.parameter_scan_ss(\n",
    "    get_linear_chain_2v(),\n",
    "    parameters=mb2.cartesian_product(\n",
    "        {\n",
    "            \"k1\": np.linspace(0, 1, 3),\n",
    "            \"k2\": np.linspace(0, 1, 3),\n",
    "        }\n",
    "    ),\n",
    "    mc_parameters=sample(\n",
    "        {\n",
    "            \"k3\": LogNormal(mean=1.0, sigma=0.2),\n",
    "        },\n",
    "        n=10,\n",
    "    ),\n",
    ")\n",
    "\n",
    "mcss.concs.head()"
   ]
  }
 ],
 "metadata": {
  "kernelspec": {
   "display_name": "Python 3",
   "language": "python",
   "name": "python3"
  },
  "language_info": {
   "codemirror_mode": {
    "name": "ipython",
    "version": 3
   },
   "file_extension": ".py",
   "mimetype": "text/x-python",
   "name": "python",
   "nbconvert_exporter": "python",
   "pygments_lexer": "ipython3",
   "version": "3.12.7"
  }
 },
 "nbformat": 4,
 "nbformat_minor": 2
}

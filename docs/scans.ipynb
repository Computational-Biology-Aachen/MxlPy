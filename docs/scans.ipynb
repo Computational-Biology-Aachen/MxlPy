{
 "cells": [
  {
   "cell_type": "code",
   "execution_count": 1,
   "metadata": {},
   "outputs": [
    {
     "name": "stderr",
     "output_type": "stream",
     "text": [
      "Could not find cannot import name 'dopri5' from 'assimulo.lib' (/home/marvin/git/modelbase2b/.pixi/envs/default/lib/python3.12/site-packages/assimulo/lib/__init__.py)\n",
      "Could not find cannot import name 'rodas' from 'assimulo.lib' (/home/marvin/git/modelbase2b/.pixi/envs/default/lib/python3.12/site-packages/assimulo/lib/__init__.py)\n",
      "Could not find cannot import name 'odassl' from 'assimulo.lib' (/home/marvin/git/modelbase2b/.pixi/envs/default/lib/python3.12/site-packages/assimulo/lib/__init__.py)\n",
      "Could not find ODEPACK functions.\n",
      "Could not find RADAR5\n",
      "Could not find GLIMDA.\n"
     ]
    }
   ],
   "source": [
    "import numpy as np\n",
    "import pandas as pd\n",
    "from example_models import get_linear_chain_2v\n",
    "from matplotlib import pyplot as plt\n",
    "\n",
    "import modelbase2 as mb2\n",
    "from modelbase2 import Simulator, mc, mca, plot\n",
    "\n",
    "\n",
    "def make_protocol(steps: dict[float, dict[str, float]]) -> pd.DataFrame:\n",
    "    data = {}\n",
    "\n",
    "    t0 = pd.Timedelta(0)\n",
    "    for step, pars in steps.items():\n",
    "        t0 += pd.Timedelta(seconds=step)\n",
    "        data[t0] = pars\n",
    "    return pd.DataFrame(data).T"
   ]
  },
  {
   "cell_type": "markdown",
   "metadata": {},
   "source": [
    "## Simulation"
   ]
  },
  {
   "cell_type": "markdown",
   "metadata": {},
   "source": [
    "### Steady-state"
   ]
  },
  {
   "cell_type": "code",
   "execution_count": null,
   "metadata": {},
   "outputs": [],
   "source": [
    "concs, fluxes = (\n",
    "    Simulator(get_linear_chain_2v())  # optionally supply initial conditions\n",
    "    .simulate_to_steady_state()\n",
    "    .get_concs_and_fluxes()\n",
    ")\n",
    "concs"
   ]
  },
  {
   "cell_type": "markdown",
   "metadata": {},
   "source": [
    "### Time series"
   ]
  },
  {
   "cell_type": "code",
   "execution_count": null,
   "metadata": {},
   "outputs": [],
   "source": [
    "concs, fluxes = (\n",
    "    Simulator(get_linear_chain_2v())\n",
    "    .simulate(t_end=10)  # also possible to set steps or exact time points\n",
    "    .get_concs_and_fluxes()\n",
    ")\n",
    "\n",
    "if concs is not None:\n",
    "    _ = plot.line(concs)"
   ]
  },
  {
   "cell_type": "markdown",
   "metadata": {},
   "source": [
    "### Protocol time series\n",
    "\n",
    "Discrete time changes"
   ]
  },
  {
   "cell_type": "code",
   "execution_count": null,
   "metadata": {},
   "outputs": [],
   "source": [
    "protocol = make_protocol(\n",
    "    {\n",
    "        1: {\"k1\": 1},\n",
    "        2: {\"k1\": 2},\n",
    "        3: {\"k1\": 1},\n",
    "    }\n",
    ")\n",
    "concs, fluxes = (\n",
    "    Simulator(\n",
    "        get_linear_chain_2v(),\n",
    "    )\n",
    "    .simulate_over_protocol(protocol)\n",
    "    .get_concs_and_fluxes()\n",
    ")\n",
    "\n",
    "if concs is not None:\n",
    "    fig, ax = plt.subplots()\n",
    "    plot.line(concs, ax=ax)\n",
    "    plot.shade_protocol(protocol[\"k1\"], ax=ax)\n"
   ]
  },
  {
   "cell_type": "markdown",
   "metadata": {},
   "source": [
    "## Parameter scans"
   ]
  },
  {
   "cell_type": "markdown",
   "metadata": {},
   "source": [
    "### Steady-state"
   ]
  },
  {
   "cell_type": "code",
   "execution_count": null,
   "metadata": {},
   "outputs": [],
   "source": [
    "concs, fluxes = mb2.parameter_scan_ss(\n",
    "    get_linear_chain_2v(),\n",
    "    {\"k1\": np.linspace(1, 2, 11)},\n",
    ")\n",
    "concs.head()"
   ]
  },
  {
   "cell_type": "code",
   "execution_count": null,
   "metadata": {},
   "outputs": [],
   "source": [
    "concs.plot()"
   ]
  },
  {
   "cell_type": "code",
   "execution_count": null,
   "metadata": {},
   "outputs": [],
   "source": [
    "concs, fluxes = mb2.parameter_scan_ss(\n",
    "    get_linear_chain_2v(),\n",
    "    {\n",
    "        \"k1\": np.linspace(1, 2, 3),\n",
    "        \"k2\": np.linspace(1, 2, 4),\n",
    "    },\n",
    ")\n",
    "concs.head()"
   ]
  },
  {
   "cell_type": "code",
   "execution_count": null,
   "metadata": {},
   "outputs": [],
   "source": [
    "plot.heatmap_from_2d_idx(concs, \"x\")"
   ]
  },
  {
   "cell_type": "code",
   "execution_count": null,
   "metadata": {},
   "outputs": [],
   "source": [
    "concs, fluxes = mb2.parameter_scan_ss(\n",
    "    get_linear_chain_2v(),\n",
    "    {\n",
    "        \"k1\": np.linspace(1, 2, 3),\n",
    "        \"k2\": np.linspace(1, 2, 4),\n",
    "        \"k3\": np.linspace(1, 2, 4),\n",
    "    },\n",
    ")\n",
    "concs.head()"
   ]
  },
  {
   "cell_type": "markdown",
   "metadata": {},
   "source": [
    "### Time-series\n",
    "\n",
    "- TODO: write wrapper class around concs & fluxes to make common access patterns easier"
   ]
  },
  {
   "cell_type": "code",
   "execution_count": null,
   "metadata": {},
   "outputs": [],
   "source": [
    "time_points = np.linspace(0, 1, 11)\n",
    "\n",
    "inputs, concs, fluxes = mb2.parameter_scan_time_series(\n",
    "    get_linear_chain_2v(),\n",
    "    {\"k1\": np.linspace(1, 2, 11)},\n",
    "    time_points=time_points,\n",
    ")"
   ]
  },
  {
   "cell_type": "code",
   "execution_count": null,
   "metadata": {},
   "outputs": [],
   "source": [
    "time_points = np.linspace(0, 1, 11)\n",
    "\n",
    "fig, ax = plt.subplots()\n",
    "\n",
    "plot.line_mean_std(\n",
    "    ax=ax,\n",
    "    df=pd.DataFrame(\n",
    "        {\n",
    "            i: pd.DataFrame({k: v.iloc[i] for k, v in concs.items()}).T[\"x\"]\n",
    "            for i in range(len(time_points))\n",
    "        }\n",
    "    ).T,\n",
    "    label=\"x\",\n",
    ")\n",
    "plot.line_mean_std(\n",
    "    ax=ax,\n",
    "    df=pd.DataFrame(\n",
    "        {\n",
    "            i: pd.DataFrame({k: v.iloc[i] for k, v in concs.items()}).T[\"y\"]\n",
    "            for i in range(len(time_points))\n",
    "        }\n",
    "    ).T,\n",
    "    label=\"y\",\n",
    ")\n"
   ]
  },
  {
   "cell_type": "code",
   "execution_count": null,
   "metadata": {},
   "outputs": [],
   "source": [
    "inputs, concs, fluxes = mb2.parameter_scan_time_series(\n",
    "    get_linear_chain_2v(),\n",
    "    {\n",
    "        \"k1\": np.linspace(1, 2, 11),\n",
    "        \"k2\": np.linspace(1, 2, 4),\n",
    "    },\n",
    "    time_points=np.linspace(0, 1, 11),\n",
    ")\n",
    "\n",
    "if inputs.shape[1] == 1:\n",
    "    idx = pd.Index(inputs.iloc[:, 0])\n",
    "else:\n",
    "    idx = pd.MultiIndex.from_frame(inputs)"
   ]
  },
  {
   "cell_type": "code",
   "execution_count": null,
   "metadata": {},
   "outputs": [],
   "source": [
    "fig, ax = plt.subplots()\n",
    "plot.line_mean_std(\n",
    "    ax=ax,\n",
    "    df=pd.DataFrame(\n",
    "        {\n",
    "            i: pd.DataFrame({k: v.iloc[i] for k, v in concs.items()}).T[\"x\"]\n",
    "            for i in range(len(time_points))\n",
    "        }\n",
    "    ).T,\n",
    "    label=\"x\",\n",
    ")\n",
    "plot.line_mean_std(\n",
    "    ax=ax,\n",
    "    df=pd.DataFrame(\n",
    "        {\n",
    "            i: pd.DataFrame({k: v.iloc[i] for k, v in concs.items()}).T[\"y\"]\n",
    "            for i in range(len(time_points))\n",
    "        }\n",
    "    ).T,\n",
    "    label=\"y\",\n",
    ")"
   ]
  },
  {
   "cell_type": "markdown",
   "metadata": {},
   "source": [
    "## Metabolic control analysis"
   ]
  },
  {
   "cell_type": "code",
   "execution_count": null,
   "metadata": {},
   "outputs": [],
   "source": [
    "mca.compound_elasticities(\n",
    "    get_linear_chain_2v(),\n",
    "    [\"x\"],\n",
    "    concs={\"x\": 1.0, \"y\": 1.0},\n",
    ")"
   ]
  },
  {
   "cell_type": "code",
   "execution_count": null,
   "metadata": {},
   "outputs": [],
   "source": [
    "mca.parameter_elasticities(\n",
    "    get_linear_chain_2v(),\n",
    "    [\"k1\"],\n",
    "    concs={\"x\": 1.0, \"y\": 1.0},\n",
    ")"
   ]
  },
  {
   "cell_type": "code",
   "execution_count": null,
   "metadata": {},
   "outputs": [],
   "source": [
    "crcs, frcs = mca.response_coefficients(\n",
    "    get_linear_chain_2v(),\n",
    "    [\"k1\", \"k2\"],\n",
    ")\n",
    "crcs.head()"
   ]
  },
  {
   "cell_type": "markdown",
   "metadata": {},
   "source": [
    "## Monte-carlo scans"
   ]
  },
  {
   "cell_type": "markdown",
   "metadata": {},
   "source": [
    "### Time-series"
   ]
  },
  {
   "cell_type": "code",
   "execution_count": 8,
   "metadata": {},
   "outputs": [
    {
     "name": "stderr",
     "output_type": "stream",
     "text": [
      "100%|██████████| 2/2 [00:00<00:00,  5.62it/s]\n"
     ]
    },
    {
     "data": {
      "text/plain": [
       "(<Figure size 640x480 with 1 Axes>, <Axes: >)"
      ]
     },
     "execution_count": 8,
     "metadata": {},
     "output_type": "execute_result"
    },
    {
     "data": {
      "image/png": "[encoded data removed]",
      "text/plain": [
       "<Figure size 640x480 with 1 Axes>"
      ]
     },
     "metadata": {},
     "output_type": "display_data"
    }
   ],
   "source": [
    "mc_parameters = pd.DataFrame(\n",
    "    {\n",
    "        1: {\"k2\": 1.0, \"k3\": 1.0},\n",
    "        2: {\"k2\": 1.1, \"k3\": 1.2},\n",
    "    }\n",
    ").T\n",
    "\n",
    "\n",
    "tc = mc.time_course(\n",
    "    get_linear_chain_2v(),\n",
    "    time_points=np.linspace(0, 1, 11),\n",
    "    mc_parameters=mc_parameters,\n",
    ")\n",
    "\n",
    "fig, ax = plt.subplots()\n",
    "plot.mc_line_mean_std(tc.concs, \"x\", ax=ax)\n",
    "plot.mc_line_mean_std(tc.concs, \"y\", ax=ax)"
   ]
  },
  {
   "cell_type": "markdown",
   "metadata": {},
   "source": [
    "### Protocol time series"
   ]
  },
  {
   "cell_type": "code",
   "execution_count": 9,
   "metadata": {},
   "outputs": [
    {
     "name": "stderr",
     "output_type": "stream",
     "text": [
      "100%|██████████| 2/2 [00:00<00:00,  5.86it/s]\n"
     ]
    },
    {
     "data": {
      "image/png": "[encoded data removed]",
      "text/plain": [
       "<Figure size 640x480 with 1 Axes>"
      ]
     },
     "metadata": {},
     "output_type": "display_data"
    }
   ],
   "source": [
    "mc_parameters = pd.DataFrame(\n",
    "    {\n",
    "        1: {\"k2\": 1.0, \"k3\": 1.0},\n",
    "        2: {\"k2\": 1.1, \"k3\": 1.2},\n",
    "    }\n",
    ").T\n",
    "\n",
    "\n",
    "protocol = make_protocol(\n",
    "    {\n",
    "        1: {\"k1\": 1},\n",
    "        2: {\"k1\": 2},\n",
    "        3: {\"k1\": 1},\n",
    "    }\n",
    ")\n",
    "\n",
    "tc = mc.time_course_over_protocol(\n",
    "    get_linear_chain_2v(),\n",
    "    time_points_per_step=10,\n",
    "    protocol=protocol,\n",
    "    mc_parameters=mc_parameters,\n",
    ")\n",
    "fig, ax = plt.subplots()\n",
    "plot.mc_line_mean_std(tc.concs, \"x\", ax=ax)\n",
    "plot.mc_line_mean_std(tc.concs, \"y\", ax=ax)\n",
    "plot.shade_protocol(protocol[\"k1\"], ax=ax)"
   ]
  },
  {
   "cell_type": "markdown",
   "metadata": {},
   "source": [
    "### Metabolic control analysis"
   ]
  },
  {
   "cell_type": "code",
   "execution_count": 10,
   "metadata": {},
   "outputs": [
    {
     "name": "stderr",
     "output_type": "stream",
     "text": [
      "100%|██████████| 2/2 [00:00<00:00,  5.25it/s]\n"
     ]
    },
    {
     "data": {
      "text/html": [
       "<div>\n",
       "<style scoped>\n",
       "    .dataframe tbody tr th:only-of-type {\n",
       "        vertical-align: middle;\n",
       "    }\n",
       "\n",
       "    .dataframe tbody tr th {\n",
       "        vertical-align: top;\n",
       "    }\n",
       "\n",
       "    .dataframe thead th {\n",
       "        text-align: right;\n",
       "    }\n",
       "</style>\n",
       "<table border=\"1\" class=\"dataframe\">\n",
       "  <thead>\n",
       "    <tr style=\"text-align: right;\">\n",
       "      <th></th>\n",
       "      <th></th>\n",
       "      <th>x</th>\n",
       "      <th>y</th>\n",
       "    </tr>\n",
       "  </thead>\n",
       "  <tbody>\n",
       "    <tr>\n",
       "      <th rowspan=\"3\" valign=\"top\">1</th>\n",
       "      <th>v1</th>\n",
       "      <td>0.0</td>\n",
       "      <td>0.0</td>\n",
       "    </tr>\n",
       "    <tr>\n",
       "      <th>v2</th>\n",
       "      <td>1.0</td>\n",
       "      <td>0.0</td>\n",
       "    </tr>\n",
       "    <tr>\n",
       "      <th>v3</th>\n",
       "      <td>0.0</td>\n",
       "      <td>1.0</td>\n",
       "    </tr>\n",
       "    <tr>\n",
       "      <th rowspan=\"2\" valign=\"top\">2</th>\n",
       "      <th>v1</th>\n",
       "      <td>0.0</td>\n",
       "      <td>0.0</td>\n",
       "    </tr>\n",
       "    <tr>\n",
       "      <th>v2</th>\n",
       "      <td>1.0</td>\n",
       "      <td>0.0</td>\n",
       "    </tr>\n",
       "  </tbody>\n",
       "</table>\n",
       "</div>"
      ],
      "text/plain": [
       "        x    y\n",
       "1 v1  0.0  0.0\n",
       "  v2  1.0  0.0\n",
       "  v3  0.0  1.0\n",
       "2 v1  0.0  0.0\n",
       "  v2  1.0  0.0"
      ]
     },
     "execution_count": 10,
     "metadata": {},
     "output_type": "execute_result"
    }
   ],
   "source": [
    "mc_parameters = pd.DataFrame(\n",
    "    {\n",
    "        1: {\"k2\": 1.0, \"k3\": 1.0},\n",
    "        2: {\"k2\": 1.1, \"k3\": 1.2},\n",
    "    }\n",
    ").T\n",
    "\n",
    "ce = mc.compound_elasticities(\n",
    "    get_linear_chain_2v(),\n",
    "    variables=[\"x\", \"y\"],\n",
    "    concs={\"x\": 1.0, \"y\": 1.0},\n",
    "    mc_parameters=mc_parameters,\n",
    ")\n",
    "ce.head()"
   ]
  },
  {
   "cell_type": "code",
   "execution_count": 11,
   "metadata": {},
   "outputs": [
    {
     "name": "stderr",
     "output_type": "stream",
     "text": [
      "100%|██████████| 2/2 [00:00<00:00,  3.77it/s]\n"
     ]
    },
    {
     "data": {
      "text/html": [
       "<div>\n",
       "<style scoped>\n",
       "    .dataframe tbody tr th:only-of-type {\n",
       "        vertical-align: middle;\n",
       "    }\n",
       "\n",
       "    .dataframe tbody tr th {\n",
       "        vertical-align: top;\n",
       "    }\n",
       "\n",
       "    .dataframe thead th {\n",
       "        text-align: right;\n",
       "    }\n",
       "</style>\n",
       "<table border=\"1\" class=\"dataframe\">\n",
       "  <thead>\n",
       "    <tr style=\"text-align: right;\">\n",
       "      <th></th>\n",
       "      <th></th>\n",
       "      <th>k1</th>\n",
       "    </tr>\n",
       "  </thead>\n",
       "  <tbody>\n",
       "    <tr>\n",
       "      <th rowspan=\"3\" valign=\"top\">1</th>\n",
       "      <th>v1</th>\n",
       "      <td>1.0</td>\n",
       "    </tr>\n",
       "    <tr>\n",
       "      <th>v2</th>\n",
       "      <td>0.0</td>\n",
       "    </tr>\n",
       "    <tr>\n",
       "      <th>v3</th>\n",
       "      <td>0.0</td>\n",
       "    </tr>\n",
       "    <tr>\n",
       "      <th rowspan=\"2\" valign=\"top\">2</th>\n",
       "      <th>v1</th>\n",
       "      <td>1.0</td>\n",
       "    </tr>\n",
       "    <tr>\n",
       "      <th>v2</th>\n",
       "      <td>0.0</td>\n",
       "    </tr>\n",
       "  </tbody>\n",
       "</table>\n",
       "</div>"
      ],
      "text/plain": [
       "       k1\n",
       "1 v1  1.0\n",
       "  v2  0.0\n",
       "  v3  0.0\n",
       "2 v1  1.0\n",
       "  v2  0.0"
      ]
     },
     "execution_count": 11,
     "metadata": {},
     "output_type": "execute_result"
    }
   ],
   "source": [
    "mc_parameters = pd.DataFrame(\n",
    "    {\n",
    "        1: {\"k2\": 1.0, \"k3\": 1.0},\n",
    "        2: {\"k2\": 1.1, \"k3\": 1.2},\n",
    "    }\n",
    ").T\n",
    "\n",
    "ce = mc.parameter_elasticities(\n",
    "    get_linear_chain_2v(),\n",
    "    parameters=[\"k1\"],\n",
    "    concs={\"x\": 1.0, \"y\": 1.0},\n",
    "    mc_parameters=mc_parameters,\n",
    ")\n",
    "ce.head()"
   ]
  },
  {
   "cell_type": "code",
   "execution_count": 12,
   "metadata": {},
   "outputs": [
    {
     "name": "stderr",
     "output_type": "stream",
     "text": [
      "100%|██████████| 2/2 [00:00<00:00, 40.83it/s]\n",
      "100%|██████████| 2/2 [00:00<00:00, 20.14it/s]\n",
      "100%|██████████| 2/2 [00:00<00:00,  4.39it/s]\n"
     ]
    },
    {
     "data": {
      "text/html": [
       "<div>\n",
       "<style scoped>\n",
       "    .dataframe tbody tr th:only-of-type {\n",
       "        vertical-align: middle;\n",
       "    }\n",
       "\n",
       "    .dataframe tbody tr th {\n",
       "        vertical-align: top;\n",
       "    }\n",
       "\n",
       "    .dataframe thead th {\n",
       "        text-align: right;\n",
       "    }\n",
       "</style>\n",
       "<table border=\"1\" class=\"dataframe\">\n",
       "  <thead>\n",
       "    <tr style=\"text-align: right;\">\n",
       "      <th></th>\n",
       "      <th></th>\n",
       "      <th>x</th>\n",
       "      <th>y</th>\n",
       "    </tr>\n",
       "  </thead>\n",
       "  <tbody>\n",
       "    <tr>\n",
       "      <th rowspan=\"2\" valign=\"top\">1</th>\n",
       "      <th>k1</th>\n",
       "      <td>1.0</td>\n",
       "      <td>1.000000e+00</td>\n",
       "    </tr>\n",
       "    <tr>\n",
       "      <th>k2</th>\n",
       "      <td>-1.0</td>\n",
       "      <td>0.000000e+00</td>\n",
       "    </tr>\n",
       "    <tr>\n",
       "      <th rowspan=\"2\" valign=\"top\">2</th>\n",
       "      <th>k1</th>\n",
       "      <td>1.0</td>\n",
       "      <td>1.000000e+00</td>\n",
       "    </tr>\n",
       "    <tr>\n",
       "      <th>k2</th>\n",
       "      <td>-1.0</td>\n",
       "      <td>-3.330669e-12</td>\n",
       "    </tr>\n",
       "  </tbody>\n",
       "</table>\n",
       "</div>"
      ],
      "text/plain": [
       "        x             y\n",
       "1 k1  1.0  1.000000e+00\n",
       "  k2 -1.0  0.000000e+00\n",
       "2 k1  1.0  1.000000e+00\n",
       "  k2 -1.0 -3.330669e-12"
      ]
     },
     "execution_count": 12,
     "metadata": {},
     "output_type": "execute_result"
    }
   ],
   "source": [
    "mc_parameters = pd.DataFrame(\n",
    "    {\n",
    "        1: {\"k2\": 1.0, \"k3\": 1.0},\n",
    "        2: {\"k2\": 1.1, \"k3\": 1.2},\n",
    "    }\n",
    ").T\n",
    "\n",
    "crcs, frcs = mc.response_coefficients(\n",
    "    get_linear_chain_2v(),\n",
    "    [\"k1\", \"k2\"],\n",
    "    mc_parameters=mc_parameters,\n",
    ")\n",
    "crcs.head()"
   ]
  },
  {
   "cell_type": "markdown",
   "metadata": {},
   "source": [
    "### Steady-state parameter scan\n",
    "\n",
    "Vary **both** monte carlo parameters as well as systematically scan for other parameters"
   ]
  },
  {
   "cell_type": "code",
   "execution_count": 7,
   "metadata": {},
   "outputs": [
    {
     "name": "stderr",
     "output_type": "stream",
     "text": [
      "100%|██████████| 3/3 [00:00<00:00, 66.61it/s]\n",
      "100%|██████████| 3/3 [00:00<00:00, 51.01it/s]\n",
      "100%|██████████| 2/2 [00:00<00:00,  5.69it/s]\n"
     ]
    },
    {
     "data": {
      "text/html": [
       "<div>\n",
       "<style scoped>\n",
       "    .dataframe tbody tr th:only-of-type {\n",
       "        vertical-align: middle;\n",
       "    }\n",
       "\n",
       "    .dataframe tbody tr th {\n",
       "        vertical-align: top;\n",
       "    }\n",
       "\n",
       "    .dataframe thead th {\n",
       "        text-align: right;\n",
       "    }\n",
       "</style>\n",
       "<table border=\"1\" class=\"dataframe\">\n",
       "  <thead>\n",
       "    <tr style=\"text-align: right;\">\n",
       "      <th></th>\n",
       "      <th></th>\n",
       "      <th>x</th>\n",
       "      <th>y</th>\n",
       "    </tr>\n",
       "    <tr>\n",
       "      <th></th>\n",
       "      <th>k1</th>\n",
       "      <th></th>\n",
       "      <th></th>\n",
       "    </tr>\n",
       "  </thead>\n",
       "  <tbody>\n",
       "    <tr>\n",
       "      <th rowspan=\"3\" valign=\"top\">1</th>\n",
       "      <th>0.0</th>\n",
       "      <td>-2.144953e-17</td>\n",
       "      <td>-3.839487e-16</td>\n",
       "    </tr>\n",
       "    <tr>\n",
       "      <th>0.5</th>\n",
       "      <td>5.000000e-01</td>\n",
       "      <td>5.000000e-01</td>\n",
       "    </tr>\n",
       "    <tr>\n",
       "      <th>1.0</th>\n",
       "      <td>1.000000e+00</td>\n",
       "      <td>1.000000e+00</td>\n",
       "    </tr>\n",
       "    <tr>\n",
       "      <th rowspan=\"2\" valign=\"top\">2</th>\n",
       "      <th>0.0</th>\n",
       "      <td>-1.087796e-19</td>\n",
       "      <td>-1.333593e-18</td>\n",
       "    </tr>\n",
       "    <tr>\n",
       "      <th>0.5</th>\n",
       "      <td>4.545455e-01</td>\n",
       "      <td>4.166667e-01</td>\n",
       "    </tr>\n",
       "  </tbody>\n",
       "</table>\n",
       "</div>"
      ],
      "text/plain": [
       "                  x             y\n",
       "  k1                             \n",
       "1 0.0 -2.144953e-17 -3.839487e-16\n",
       "  0.5  5.000000e-01  5.000000e-01\n",
       "  1.0  1.000000e+00  1.000000e+00\n",
       "2 0.0 -1.087796e-19 -1.333593e-18\n",
       "  0.5  4.545455e-01  4.166667e-01"
      ]
     },
     "execution_count": 7,
     "metadata": {},
     "output_type": "execute_result"
    }
   ],
   "source": [
    "mcss = mc.parameter_scan_ss(\n",
    "    get_linear_chain_2v(),\n",
    "    parameters={\"k1\": np.linspace(0, 1, 3)},\n",
    "    mc_parameters=pd.DataFrame(\n",
    "        {\n",
    "            1: {\"k2\": 1.0, \"k3\": 1.0},\n",
    "            2: {\"k2\": 1.1, \"k3\": 1.2},\n",
    "        }\n",
    "    ).T,\n",
    ")\n",
    "\n",
    "mcss.concs.head()"
   ]
  }
 ],
 "metadata": {
  "kernelspec": {
   "display_name": "default",
   "language": "python",
   "name": "python3"
  },
  "language_info": {
   "codemirror_mode": {
    "name": "ipython",
    "version": 3
   },
   "file_extension": ".py",
   "mimetype": "text/x-python",
   "name": "python",
   "nbconvert_exporter": "python",
   "pygments_lexer": "ipython3",
   "version": "3.12.7"
  }
 },
 "nbformat": 4,
 "nbformat_minor": 2
}

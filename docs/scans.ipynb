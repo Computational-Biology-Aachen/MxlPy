{
 "cells": [
  {
   "cell_type": "code",
   "execution_count": null,
   "metadata": {},
   "outputs": [],
   "source": [
    "import numpy as np\n",
    "import pandas as pd\n",
    "from example_models import get_linear_chain_2v\n",
    "from matplotlib import pyplot as plt\n",
    "\n",
    "import modelbase2 as mb2\n",
    "from modelbase2 import Simulator, mc, mca, plot\n",
    "\n",
    "\n",
    "def make_protocol(steps: dict[float, dict[str, float]]) -> pd.DataFrame:\n",
    "    data = {}\n",
    "\n",
    "    t0 = pd.Timedelta(0)\n",
    "    for step, pars in steps.items():\n",
    "        t0 += pd.Timedelta(seconds=step)\n",
    "        data[t0] = pars\n",
    "    return pd.DataFrame(data).T"
   ]
  },
  {
   "cell_type": "markdown",
   "metadata": {},
   "source": [
    "## Simulation"
   ]
  },
  {
   "cell_type": "markdown",
   "metadata": {},
   "source": [
    "### Steady-state"
   ]
  },
  {
   "cell_type": "code",
   "execution_count": null,
   "metadata": {},
   "outputs": [],
   "source": [
    "concs, fluxes = (\n",
    "    Simulator(get_linear_chain_2v())  # optionally supply initial conditions\n",
    "    .simulate_to_steady_state()\n",
    "    .get_concs_and_fluxes()\n",
    ")\n",
    "concs"
   ]
  },
  {
   "cell_type": "markdown",
   "metadata": {},
   "source": [
    "### Time series"
   ]
  },
  {
   "cell_type": "code",
   "execution_count": null,
   "metadata": {},
   "outputs": [],
   "source": [
    "concs, fluxes = (\n",
    "    Simulator(get_linear_chain_2v())\n",
    "    .simulate(t_end=10)  # also possible to set steps or exact time points\n",
    "    .get_concs_and_fluxes()\n",
    ")\n",
    "\n",
    "if concs is not None:\n",
    "    _ = plot.line(concs)"
   ]
  },
  {
   "cell_type": "markdown",
   "metadata": {},
   "source": [
    "### Protocol time series\n",
    "\n",
    "Discrete time changes"
   ]
  },
  {
   "cell_type": "code",
   "execution_count": null,
   "metadata": {},
   "outputs": [],
   "source": [
    "protocol = make_protocol(\n",
    "    {\n",
    "        1: {\"k1\": 1},\n",
    "        2: {\"k1\": 2},\n",
    "        3: {\"k1\": 1},\n",
    "    }\n",
    ")\n",
    "concs, fluxes = (\n",
    "    Simulator(\n",
    "        get_linear_chain_2v(),\n",
    "    )\n",
    "    .simulate_over_protocol(protocol)\n",
    "    .get_concs_and_fluxes()\n",
    ")\n",
    "\n",
    "if concs is not None:\n",
    "    fig, ax = plt.subplots()\n",
    "    plot.line(concs, ax=ax)\n",
    "    plot.shade_protocol(protocol[\"k1\"], ax=ax)\n"
   ]
  },
  {
   "cell_type": "markdown",
   "metadata": {},
   "source": [
    "## Parameter scans"
   ]
  },
  {
   "cell_type": "markdown",
   "metadata": {},
   "source": [
    "### Steady-state"
   ]
  },
  {
   "cell_type": "code",
   "execution_count": null,
   "metadata": {},
   "outputs": [],
   "source": [
    "concs, fluxes = mb2.parameter_scan_ss(\n",
    "    get_linear_chain_2v(),\n",
    "    {\"k1\": np.linspace(1, 2, 11)},\n",
    ")\n",
    "concs.head()"
   ]
  },
  {
   "cell_type": "code",
   "execution_count": null,
   "metadata": {},
   "outputs": [],
   "source": [
    "concs.plot()"
   ]
  },
  {
   "cell_type": "code",
   "execution_count": null,
   "metadata": {},
   "outputs": [],
   "source": [
    "concs, fluxes = mb2.parameter_scan_ss(\n",
    "    get_linear_chain_2v(),\n",
    "    {\n",
    "        \"k1\": np.linspace(1, 2, 3),\n",
    "        \"k2\": np.linspace(1, 2, 4),\n",
    "    },\n",
    ")\n",
    "concs.head()"
   ]
  },
  {
   "cell_type": "code",
   "execution_count": null,
   "metadata": {},
   "outputs": [],
   "source": [
    "plot.heatmap_from_2d_idx(concs, \"x\")"
   ]
  },
  {
   "cell_type": "code",
   "execution_count": null,
   "metadata": {},
   "outputs": [],
   "source": [
    "concs, fluxes = mb2.parameter_scan_ss(\n",
    "    get_linear_chain_2v(),\n",
    "    {\n",
    "        \"k1\": np.linspace(1, 2, 3),\n",
    "        \"k2\": np.linspace(1, 2, 4),\n",
    "        \"k3\": np.linspace(1, 2, 4),\n",
    "    },\n",
    ")\n",
    "concs.head()"
   ]
  },
  {
   "cell_type": "markdown",
   "metadata": {},
   "source": [
    "### Time-series\n",
    "\n",
    "- TODO: write wrapper class around concs & fluxes to make common access patterns easier"
   ]
  },
  {
   "cell_type": "code",
   "execution_count": null,
   "metadata": {},
   "outputs": [],
   "source": [
    "time_points = np.linspace(0, 1, 11)\n",
    "\n",
    "inputs, concs, fluxes = mb2.parameter_scan_time_series(\n",
    "    get_linear_chain_2v(),\n",
    "    {\"k1\": np.linspace(1, 2, 11)},\n",
    "    time_points=time_points,\n",
    ")"
   ]
  },
  {
   "cell_type": "code",
   "execution_count": null,
   "metadata": {},
   "outputs": [],
   "source": [
    "time_points = np.linspace(0, 1, 11)\n",
    "\n",
    "fig, ax = plt.subplots()\n",
    "\n",
    "plot.line_mean_std(\n",
    "    ax=ax,\n",
    "    df=pd.DataFrame(\n",
    "        {\n",
    "            i: pd.DataFrame({k: v.iloc[i] for k, v in concs.items()}).T[\"x\"]\n",
    "            for i in range(len(time_points))\n",
    "        }\n",
    "    ).T,\n",
    "    label=\"x\",\n",
    ")\n",
    "plot.line_mean_std(\n",
    "    ax=ax,\n",
    "    df=pd.DataFrame(\n",
    "        {\n",
    "            i: pd.DataFrame({k: v.iloc[i] for k, v in concs.items()}).T[\"y\"]\n",
    "            for i in range(len(time_points))\n",
    "        }\n",
    "    ).T,\n",
    "    label=\"y\",\n",
    ")\n"
   ]
  },
  {
   "cell_type": "code",
   "execution_count": null,
   "metadata": {},
   "outputs": [],
   "source": [
    "inputs, concs, fluxes = mb2.parameter_scan_time_series(\n",
    "    get_linear_chain_2v(),\n",
    "    {\n",
    "        \"k1\": np.linspace(1, 2, 11),\n",
    "        \"k2\": np.linspace(1, 2, 4),\n",
    "    },\n",
    "    time_points=np.linspace(0, 1, 11),\n",
    ")\n",
    "\n",
    "if inputs.shape[1] == 1:\n",
    "    idx = pd.Index(inputs.iloc[:, 0])\n",
    "else:\n",
    "    idx = pd.MultiIndex.from_frame(inputs)"
   ]
  },
  {
   "cell_type": "code",
   "execution_count": null,
   "metadata": {},
   "outputs": [],
   "source": [
    "fig, ax = plt.subplots()\n",
    "plot.line_mean_std(\n",
    "    ax=ax,\n",
    "    df=pd.DataFrame(\n",
    "        {\n",
    "            i: pd.DataFrame({k: v.iloc[i] for k, v in concs.items()}).T[\"x\"]\n",
    "            for i in range(len(time_points))\n",
    "        }\n",
    "    ).T,\n",
    "    label=\"x\",\n",
    ")\n",
    "plot.line_mean_std(\n",
    "    ax=ax,\n",
    "    df=pd.DataFrame(\n",
    "        {\n",
    "            i: pd.DataFrame({k: v.iloc[i] for k, v in concs.items()}).T[\"y\"]\n",
    "            for i in range(len(time_points))\n",
    "        }\n",
    "    ).T,\n",
    "    label=\"y\",\n",
    ")"
   ]
  },
  {
   "cell_type": "markdown",
   "metadata": {},
   "source": [
    "## Metabolic control analysis"
   ]
  },
  {
   "cell_type": "code",
   "execution_count": null,
   "metadata": {},
   "outputs": [],
   "source": [
    "mca.compound_elasticities(\n",
    "    get_linear_chain_2v(),\n",
    "    [\"x\"],\n",
    "    concs={\"x\": 1.0, \"y\": 1.0},\n",
    ")"
   ]
  },
  {
   "cell_type": "code",
   "execution_count": null,
   "metadata": {},
   "outputs": [],
   "source": [
    "mca.parameter_elasticities(\n",
    "    get_linear_chain_2v(),\n",
    "    [\"k1\"],\n",
    "    concs={\"x\": 1.0, \"y\": 1.0},\n",
    ")"
   ]
  },
  {
   "cell_type": "code",
   "execution_count": null,
   "metadata": {},
   "outputs": [],
   "source": [
    "crcs, frcs = mca.response_coefficients(\n",
    "    get_linear_chain_2v(),\n",
    "    [\"k1\", \"k2\"],\n",
    ")\n",
    "crcs.head()"
   ]
  },
  {
   "cell_type": "markdown",
   "metadata": {},
   "source": [
    "## Monte-carlo scans"
   ]
  },
  {
   "cell_type": "markdown",
   "metadata": {},
   "source": [
    "### Time-series"
   ]
  },
  {
   "cell_type": "code",
   "execution_count": null,
   "metadata": {},
   "outputs": [],
   "source": [
    "mc_parameters = pd.DataFrame(\n",
    "    {\n",
    "        1: {\"k2\": 1.0, \"k3\": 1.0},\n",
    "        2: {\"k2\": 1.1, \"k3\": 1.2},\n",
    "    }\n",
    ").T\n",
    "\n",
    "\n",
    "tc = mc.time_course(\n",
    "    get_linear_chain_2v(),\n",
    "    time_points=np.linspace(0, 1, 11),\n",
    "    mc_parameters=mc_parameters,\n",
    ")\n",
    "\n",
    "fig, ax = plt.subplots()\n",
    "plot.mc_line_mean_std(tc.concs, \"x\", ax=ax)\n",
    "plot.mc_line_mean_std(tc.concs, \"y\", ax=ax)"
   ]
  },
  {
   "cell_type": "markdown",
   "metadata": {},
   "source": [
    "### Protocol time series"
   ]
  },
  {
   "cell_type": "code",
   "execution_count": null,
   "metadata": {},
   "outputs": [],
   "source": [
    "mc_parameters = pd.DataFrame(\n",
    "    {\n",
    "        1: {\"k2\": 1.0, \"k3\": 1.0},\n",
    "        2: {\"k2\": 1.1, \"k3\": 1.2},\n",
    "    }\n",
    ").T\n",
    "\n",
    "\n",
    "protocol = make_protocol(\n",
    "    {\n",
    "        1: {\"k1\": 1},\n",
    "        2: {\"k1\": 2},\n",
    "        3: {\"k1\": 1},\n",
    "    }\n",
    ")\n",
    "\n",
    "tc = mc.time_course_over_protocol(\n",
    "    get_linear_chain_2v(),\n",
    "    time_points_per_step=10,\n",
    "    protocol=protocol,\n",
    "    mc_parameters=mc_parameters,\n",
    ")\n",
    "fig, ax = plt.subplots()\n",
    "plot.mc_line_mean_std(tc.concs, \"x\", ax=ax)\n",
    "plot.mc_line_mean_std(tc.concs, \"y\", ax=ax)\n",
    "plot.shade_protocol(protocol[\"k1\"], ax=ax)"
   ]
  },
  {
   "cell_type": "markdown",
   "metadata": {},
   "source": [
    "### Metabolic control analysis"
   ]
  },
  {
   "cell_type": "code",
   "execution_count": null,
   "metadata": {},
   "outputs": [],
   "source": [
    "mc_parameters = pd.DataFrame(\n",
    "    {\n",
    "        1: {\"k2\": 1.0, \"k3\": 1.0},\n",
    "        2: {\"k2\": 1.1, \"k3\": 1.2},\n",
    "    }\n",
    ").T\n",
    "\n",
    "ce = mc.compound_elasticities(\n",
    "    get_linear_chain_2v(),\n",
    "    variables=[\"x\", \"y\"],\n",
    "    concs={\"x\": 1.0, \"y\": 1.0},\n",
    "    mc_parameters=mc_parameters,\n",
    ")\n",
    "ce.head()"
   ]
  },
  {
   "cell_type": "code",
   "execution_count": null,
   "metadata": {},
   "outputs": [],
   "source": [
    "mc_parameters = pd.DataFrame(\n",
    "    {\n",
    "        1: {\"k2\": 1.0, \"k3\": 1.0},\n",
    "        2: {\"k2\": 1.1, \"k3\": 1.2},\n",
    "    }\n",
    ").T\n",
    "\n",
    "ce = mc.parameter_elasticities(\n",
    "    get_linear_chain_2v(),\n",
    "    parameters=[\"k1\"],\n",
    "    concs={\"x\": 1.0, \"y\": 1.0},\n",
    "    mc_parameters=mc_parameters,\n",
    ")\n",
    "ce.head()"
   ]
  },
  {
   "cell_type": "code",
   "execution_count": null,
   "metadata": {},
   "outputs": [],
   "source": [
    "mc_parameters = pd.DataFrame(\n",
    "    {\n",
    "        1: {\"k2\": 1.0, \"k3\": 1.0},\n",
    "        2: {\"k2\": 1.1, \"k3\": 1.2},\n",
    "    }\n",
    ").T\n",
    "\n",
    "crcs, frcs = mc.response_coefficients(\n",
    "    get_linear_chain_2v(),\n",
    "    [\"k1\", \"k2\"],\n",
    "    mc_parameters=mc_parameters,\n",
    ")\n",
    "crcs.head()"
   ]
  },
  {
   "cell_type": "markdown",
   "metadata": {},
   "source": [
    "### Steady-state parameter scan\n",
    "\n",
    "Vary **both** monte carlo parameters as well as systematically scan for other parameters"
   ]
  },
  {
   "cell_type": "code",
   "execution_count": null,
   "metadata": {},
   "outputs": [],
   "source": [
    "mcss = mc.parameter_scan_ss(\n",
    "    get_linear_chain_2v(),\n",
    "    parameters={\"k1\": np.linspace(0, 1, 3)},\n",
    "    mc_parameters=pd.DataFrame(\n",
    "        {\n",
    "            1: {\"k2\": 1.0, \"k3\": 1.0},\n",
    "            2: {\"k2\": 1.1, \"k3\": 1.2},\n",
    "        }\n",
    "    ).T,\n",
    ")\n",
    "\n",
    "mcss.concs.head()"
   ]
  }
 ],
 "metadata": {
  "kernelspec": {
   "display_name": "default",
   "language": "python",
   "name": "python3"
  },
  "language_info": {
   "codemirror_mode": {
    "name": "ipython",
    "version": 3
   },
   "file_extension": ".py",
   "mimetype": "text/x-python",
   "name": "python",
   "nbconvert_exporter": "python",
   "pygments_lexer": "ipython3",
   "version": "3.12.7"
  }
 },
 "nbformat": 4,
 "nbformat_minor": 2
}

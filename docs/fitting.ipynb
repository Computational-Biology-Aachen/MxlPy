{
 "cells": [
  {
   "cell_type": "code",
   "execution_count": null,
   "metadata": {},
   "outputs": [],
   "source": [
    "import numpy as np\n",
    "import pandas as pd\n",
    "from example_models import get_linear_chain_2v\n",
    "from matplotlib import pyplot as plt\n",
    "\n",
    "import modelbase2 as mb2\n",
    "from modelbase2 import Model, Simulator, fit\n",
    "\n",
    "\n",
    "def randomise_parameters(m: Model, seed: int = 42) -> Model:\n",
    "    rng = np.random.default_rng(seed=seed)\n",
    "    m.update_parameters(\n",
    "        (pd.Series(m.parameters) + rng.normal(0, 0.125, len(m.parameters))).to_dict()\n",
    "    )\n",
    "    return m\n"
   ]
  },
  {
   "cell_type": "code",
   "execution_count": null,
   "metadata": {},
   "outputs": [],
   "source": [
    "m = get_linear_chain_2v()\n",
    "c, v = (\n",
    "    Simulator(m).simulate(time_points=np.linspace(0, 1, 11)).get_full_concs_and_fluxes()\n",
    ")\n",
    "\n",
    "res = pd.concat((c, v), axis=1)\n",
    "res.head()\n"
   ]
  },
  {
   "cell_type": "code",
   "execution_count": null,
   "metadata": {},
   "outputs": [],
   "source": [
    "fit.steady_state(\n",
    "    randomise_parameters(get_linear_chain_2v()),\n",
    "    p0={\"k1\": 1.038, \"k2\": 1.87, \"k3\": 1.093},\n",
    "    data=res.iloc[-1].loc[[\"x\", \"v1\"]],\n",
    ")"
   ]
  },
  {
   "cell_type": "code",
   "execution_count": null,
   "metadata": {},
   "outputs": [],
   "source": [
    "fit.time_series(\n",
    "    randomise_parameters(get_linear_chain_2v()),\n",
    "    p0={\"k1\": 1.038, \"k2\": 1.87, \"k3\": 1.093},\n",
    "    data=res.loc[:, [\"x\", \"v1\"]],\n",
    ")"
   ]
  }
 ],
 "metadata": {
  "kernelspec": {
   "display_name": "Python 3",
   "language": "python",
   "name": "python3"
  },
  "language_info": {
   "codemirror_mode": {
    "name": "ipython",
    "version": 3
   },
   "file_extension": ".py",
   "mimetype": "text/x-python",
   "name": "python",
   "nbconvert_exporter": "python",
   "pygments_lexer": "ipython3",
   "version": "3.12.7"
  }
 },
 "nbformat": 4,
 "nbformat_minor": 2
}

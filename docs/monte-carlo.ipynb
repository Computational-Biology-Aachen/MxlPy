{
 "cells": [
  {
   "cell_type": "code",
   "execution_count": null,
   "metadata": {},
   "outputs": [],
   "source": [
    "import matplotlib.pyplot as plt\n",
    "import numpy as np\n",
    "import pandas as pd\n",
    "\n",
    "from modelbase2 import mc, Model\n"
   ]
  },
  {
   "cell_type": "code",
   "execution_count": null,
   "metadata": {},
   "outputs": [],
   "source": [
    "def constant(x: float) -> float:\n",
    "    return x\n",
    "\n",
    "\n",
    "def mass_action(x: float, k: float) -> float:\n",
    "    return x * k\n",
    "\n",
    "\n",
    "def get_model() -> Model:\n",
    "    return (\n",
    "        Model()\n",
    "        .add_compounds([\"x\", \"y\"])\n",
    "        .add_parameters(\n",
    "            {\n",
    "                \"k0\": 1,\n",
    "                \"k1\": 1,\n",
    "                \"k2\": 1,\n",
    "            }\n",
    "        )\n",
    "        .add_reaction_from_args(\"v0\", constant, {\"x\": 1}, [\"k0\"])\n",
    "        .add_reaction_from_args(\"v1\", mass_action, {\"x\": -1, \"y\": 1}, [\"x\", \"k1\"])\n",
    "        .add_reaction_from_args(\"v2\", mass_action, {\"y\": -1}, [\"y\", \"k2\"])\n",
    "    )\n",
    "\n",
    "\n",
    "y0 = {\"x\": 0, \"y\": 0}\n",
    "time_points = np.linspace(0, 10, 51)\n",
    "psample = mc.sample(\n",
    "    {\n",
    "        \"k0\": mc.LogNormal(mean=0.5, sigma=0.1),\n",
    "        \"k1\": mc.Uniform(1, 2),\n",
    "        \"k2\": mc.Skewnorm(loc=1, scale=0.1, a=0.5),\n",
    "    },\n",
    "    n=6,\n",
    ")"
   ]
  },
  {
   "cell_type": "code",
   "execution_count": null,
   "metadata": {},
   "outputs": [],
   "source": [
    "mctc = mc.time_course(\n",
    "    get_model(),\n",
    "    y0,\n",
    "    time_points=time_points,\n",
    "    mc_parameters=psample,\n",
    ")\n",
    "ax = mctc.plot_line_mean_std(\"concs\", \"x\")\n",
    "ax = mctc.plot_line_mean_std(\"concs\", \"y\", ax=ax)\n",
    "ax.legend()\n",
    "plt.show()"
   ]
  },
  {
   "cell_type": "code",
   "execution_count": null,
   "metadata": {},
   "outputs": [],
   "source": [
    "protocol = pd.DataFrame(\n",
    "    {\n",
    "        \"k1\": {\n",
    "            pd.Timedelta(seconds=1): 1.0,\n",
    "            pd.Timedelta(seconds=2): 2.0,\n",
    "            pd.Timedelta(seconds=3): 1.0,\n",
    "        }\n",
    "    }\n",
    ")\n",
    "\n",
    "mctp = mc.time_course_over_protocol(\n",
    "    model=get_model(),\n",
    "    y0=y0,\n",
    "    protocol=protocol,\n",
    "    mc_parameters=psample.drop(columns=[\"k1\"]),\n",
    ")\n",
    "\n",
    "fig, ax = plt.subplots()\n",
    "mctp.plot_line_mean_std(\"concs\", \"x\", ax=ax)\n",
    "mctp.plot_line_mean_std(\"concs\", \"y\", ax=ax)\n",
    "mctp.shade_protocol(\"k1\", ax=ax, vmin=0, vmax=3)\n",
    "ax.legend(\n",
    "    loc=\"upper left\",\n",
    "    bbox_to_anchor=(1.0, 1.0),\n",
    ")\n",
    "plt.show()"
   ]
  },
  {
   "cell_type": "code",
   "execution_count": null,
   "metadata": {},
   "outputs": [],
   "source": [
    "mcss = mc.steady_state_scan(\n",
    "    get_model(),\n",
    "    y0=y0,\n",
    "    parameter=\"k1\",\n",
    "    parameter_values=np.array([0.1, 0.2, 0.3, 0.4]),\n",
    "    mc_parameters=psample.drop(columns=[\"k1\"]),\n",
    ")\n",
    "\n",
    "mcss.plot_violin(\"concs\", \"x\")"
   ]
  },
  {
   "cell_type": "code",
   "execution_count": null,
   "metadata": {},
   "outputs": [],
   "source": []
  }
 ],
 "metadata": {
  "kernelspec": {
   "display_name": "default",
   "language": "python",
   "name": "python3"
  },
  "language_info": {
   "codemirror_mode": {
    "name": "ipython",
    "version": 3
   },
   "file_extension": ".py",
   "mimetype": "text/x-python",
   "name": "python",
   "nbconvert_exporter": "python",
   "pygments_lexer": "ipython3",
   "version": "3.12.7"
  }
 },
 "nbformat": 4,
 "nbformat_minor": 2
}

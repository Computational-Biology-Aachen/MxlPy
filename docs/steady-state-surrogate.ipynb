{
 "cells": [
  {
   "cell_type": "code",
   "execution_count": null,
   "metadata": {},
   "outputs": [],
   "source": [
    "from __future__ import annotations\n",
    "\n",
    "import itertools as it\n",
    "from pathlib import Path\n",
    "\n",
    "import matplotlib.pyplot as plt\n",
    "import numpy as np\n",
    "import pandas as pd\n",
    "from example_models import get_example1\n",
    "\n",
    "from modelbase2 import Cache, Model, Simulator\n",
    "from modelbase2.surrogates import create_ss_flux_data, train_torch_surrogate\n"
   ]
  },
  {
   "cell_type": "markdown",
   "metadata": {},
   "source": [
    "# Create model"
   ]
  },
  {
   "cell_type": "code",
   "execution_count": null,
   "metadata": {},
   "outputs": [],
   "source": [
    "# Example plot of this models behaviour\n",
    "_ = Simulator(get_example1()).simulate(10).get_fluxes().plot()\n"
   ]
  },
  {
   "cell_type": "markdown",
   "metadata": {},
   "source": [
    "# Create data"
   ]
  },
  {
   "cell_type": "code",
   "execution_count": null,
   "metadata": {},
   "outputs": [],
   "source": [
    "features = pd.DataFrame(\n",
    "    it.product(\n",
    "        np.linspace(0, 2.0, 21),\n",
    "        np.linspace(0, 2.0, 21),\n",
    "        np.linspace(0, 2.0, 21),\n",
    "    ),\n",
    "    columns=[\"x1\", \"ATP\", \"NADPH\"],\n",
    ")\n",
    "\n",
    "targets = create_ss_flux_data(\n",
    "    get_example1(),\n",
    "    features,\n",
    "    cache=Cache(Path(\".cache\") / \"linear\"),\n",
    ").loc[:, [\"x2_out\", \"x3_out\"]]"
   ]
  },
  {
   "cell_type": "markdown",
   "metadata": {},
   "source": [
    "# Train Surrogate"
   ]
  },
  {
   "cell_type": "code",
   "execution_count": null,
   "metadata": {},
   "outputs": [],
   "source": [
    "surrogate, loss = train_torch_surrogate(\n",
    "    features=features,\n",
    "    targets=targets,\n",
    "    epochs=2000,\n",
    "    surrogate_inputs=[\"x1\", \"ATP\", \"NADPH\"],\n",
    "    surrogate_stoichiometries={\n",
    "        \"v2\": {\"x1\": -1, \"x2\": 1, \"ATP\": -1},\n",
    "        \"v3\": {\"x1\": -1, \"x3\": 1, \"NADPH\": -1},\n",
    "    },\n",
    ")\n",
    "\n",
    "loss.plot()"
   ]
  },
  {
   "cell_type": "markdown",
   "metadata": {},
   "source": [
    "## Get predictions of rates"
   ]
  },
  {
   "cell_type": "code",
   "execution_count": null,
   "metadata": {},
   "outputs": [],
   "source": [
    "print(surrogate.predict(np.array([0.0, 0.0, 0.0])))\n",
    "print(surrogate.predict(np.array([1.0, 0.0, 0.0])))\n",
    "print(surrogate.predict(np.array([0.0, 1.0, 0.0])))\n",
    "print(surrogate.predict(np.array([0.0, 0.0, 1.0])))\n",
    "print(surrogate.predict(np.array([1.0, 0.0, 1.0])))\n",
    "print(surrogate.predict(np.array([1.0, 1.0, 1.0])))"
   ]
  },
  {
   "cell_type": "markdown",
   "metadata": {},
   "source": [
    "# Insert surrogate into model"
   ]
  },
  {
   "cell_type": "code",
   "execution_count": null,
   "metadata": {},
   "outputs": [],
   "source": [
    "def get_model() -> Model:\n",
    "    model = Model()\n",
    "    model.add_variables(\n",
    "        {\n",
    "            \"x1\": 1.0,\n",
    "            \"x2\": 0.0,\n",
    "            \"x3\": 0.0,\n",
    "            \"ATP\": 2.0,\n",
    "            \"NADPH\": 0.1,\n",
    "        }\n",
    "    )\n",
    "\n",
    "    # Adding the surrogate\n",
    "    model.add_surrogate(\"surrogate\", surrogate)\n",
    "\n",
    "    # Note that besides the surrogate we haven't defined any other reaction!\n",
    "    # We could have though\n",
    "    return model\n",
    "\n",
    "\n",
    "c, v = Simulator(get_model()).simulate(0.8).get_full_concs_and_fluxes()\n",
    "\n",
    "# FIXME: note that NADPH get's negative\n",
    "# At least the rates seem to get 0 around the tie when x1 is 0\n",
    "fig, (ax1, ax2) = plt.subplots(1, 2, figsize=(10, 4))\n",
    "c.plot(ax=ax1, xlabel=\"time / s\", ylabel=\"concentration / mM\")\n",
    "v.plot(ax=ax2, xlabel=\"time / s\", ylabel=\"flux / (mM / s)\")\n",
    "plt.show()"
   ]
  },
  {
   "cell_type": "code",
   "execution_count": null,
   "metadata": {},
   "outputs": [],
   "source": []
  },
  {
   "cell_type": "code",
   "execution_count": null,
   "metadata": {},
   "outputs": [],
   "source": []
  }
 ],
 "metadata": {
  "kernelspec": {
   "display_name": "Python 3",
   "language": "python",
   "name": "python3"
  },
  "language_info": {
   "codemirror_mode": {
    "name": "ipython",
    "version": 3
   },
   "file_extension": ".py",
   "mimetype": "text/x-python",
   "name": "python",
   "nbconvert_exporter": "python",
   "pygments_lexer": "ipython3",
   "version": "3.12.7"
  }
 },
 "nbformat": 4,
 "nbformat_minor": 2
}

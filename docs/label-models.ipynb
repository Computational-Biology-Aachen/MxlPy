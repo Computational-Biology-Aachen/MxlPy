{
 "cells": [
  {
   "cell_type": "code",
   "execution_count": null,
   "metadata": {},
   "outputs": [],
   "source": [
    "from __future__ import annotations\n",
    "\n",
    "from typing import Any\n",
    "\n",
    "from example_models import get_tpi_ald_model\n",
    "from modelbase2 import (\n",
    "    LabelMapper,\n",
    "    LinearLabelMapper,\n",
    "    Simulator,\n",
    "    plot,\n",
    ")\n",
    "from modelbase2.types import unwrap2\n",
    "\n",
    "\n",
    "def print_annotated(description: str, value: Any) -> None:\n",
    "    print(\n",
    "        description,\n",
    "        value,\n",
    "        sep=\"\\n\",\n",
    "        end=\"\\n\\n\",\n",
    "    )"
   ]
  },
  {
   "cell_type": "markdown",
   "metadata": {},
   "source": [
    "## Labeled models\n",
    "\n",
    "Labelled models allow explicitly mapping the transitions between isotopomers variables.  \n",
    "This, for example, allows building models of the Calvin-Benson-Bassham cycle, in which each carbon atom can be labelled individually:\n",
    "\n",
    "\n",
    "<img src=\"assets/cbb-labeled.png\" style=\"max-width: 30rem;\">\n",
    "\n",
    "\n",
    "*modelbase* includes a `LabelMapper` that takes\n",
    "\n",
    "- a model\n",
    "- a dictionary mapping the variables to the amount of label positions they have\n",
    "- a transition map \n",
    "\n",
    "to auto-generate all possible `2^n` variants of the variables and reaction transitions between them.  \n",
    "\n",
    "As an example let's take triose phosphate isomerase, which catalyzes the interconversion of glyceraldehyde 3-phosphate (GAP) and dihydroxyacetone phosphate (DHAP).  \n",
    "As illustrated below, in the case of the forward reaction the first and last carbon atoms are swapped\n",
    "\n",
    "<img src=\"assets/carbon-maps.png\" style=\"max-width: 250px\">\n",
    "\n",
    "So DHAP(1) is build from GAP(3), DHAP(2) from GAP(2) and DHAP(3) from GAP(1).  \n",
    "We notate this using normal **0-based indexing** as follows\n",
    "\n",
    "```python\n",
    "label_maps = {\"TPIf\": [2, 1, 0]}\n",
    "```"
   ]
  },
  {
   "cell_type": "code",
   "execution_count": null,
   "metadata": {},
   "outputs": [],
   "source": [
    "mapper = LabelMapper(\n",
    "    get_tpi_ald_model(),\n",
    "    label_variables={\"GAP\": 3, \"DHAP\": 3, \"FBP\": 6},\n",
    "    label_maps={\n",
    "        \"TPIf\": [2, 1, 0],\n",
    "        \"TPIr\": [2, 1, 0],\n",
    "        \"ALDf\": [0, 1, 2, 3, 4, 5],\n",
    "        \"ALDr\": [0, 1, 2, 3, 4, 5],\n",
    "    },\n",
    ")\n",
    "\n",
    "if (\n",
    "    concs := Simulator(mapper.build_model(initial_labels={\"GAP\": 0}))\n",
    "    .simulate(20)\n",
    "    .get_full_concs()\n",
    ") is not None:\n",
    "    plot.relative_label_distribution(mapper, concs, n_cols=3)"
   ]
  },
  {
   "cell_type": "markdown",
   "metadata": {},
   "source": [
    "### Linear label mapper\n",
    "\n",
    "\n",
    "The `LabelMapper` makes no assumptions about the state of the model, which causes a lot of complexity.  \n",
    "In steady-state however, the space of possible solutions is reduced and the labelling dynamics can be represented by a set of linear differential equations.  \n",
    "See [Sokol and Portais 2015](https://doi.org/10.1371/journal.pone.0144652) for the theory of dynamic label propagation under the stationary assumption.\n"
   ]
  },
  {
   "cell_type": "code",
   "execution_count": null,
   "metadata": {},
   "outputs": [],
   "source": [
    "m = get_tpi_ald_model()\n",
    "\n",
    "concs, fluxes = unwrap2(Simulator(m).simulate(20).get_concs_and_fluxes())\n",
    "\n",
    "\n",
    "mapper = LinearLabelMapper(\n",
    "    m,\n",
    "    label_variables={\"GAP\": 3, \"DHAP\": 3, \"FBP\": 6},\n",
    "    label_maps={\n",
    "        \"TPIf\": [2, 1, 0],\n",
    "        \"TPIr\": [2, 1, 0],\n",
    "        \"ALDf\": [0, 1, 2, 3, 4, 5],\n",
    "        \"ALDr\": [0, 1, 2, 3, 4, 5],\n",
    "    },\n",
    ")\n",
    "\n",
    "if (\n",
    "    concs := (\n",
    "        Simulator(\n",
    "            mapper.build_model(\n",
    "                concs=concs.iloc[-1],\n",
    "                fluxes=fluxes.iloc[-1],\n",
    "                initial_labels={\"GAP\": 0},\n",
    "            )\n",
    "        )\n",
    "        .simulate(20)\n",
    "        .get_full_concs()\n",
    "    )\n",
    ") is not None:\n",
    "    plot.relative_label_distribution(mapper, concs, n_cols=3)"
   ]
  },
  {
   "cell_type": "markdown",
   "metadata": {},
   "source": [
    "<div style=\"color: #ffffff; background-color: #04AA6D; padding: 3rem 1rem 3rem 1rem; box-sizing: border-box\">\n",
    "    <h2>First finish line</h2>\n",
    "    With that you now know most of what you will need from a day-to-day basis about labelled models in modelbase2.\n",
    "    <br />\n",
    "    <br />\n",
    "    Congratulations!\n",
    "</div>"
   ]
  },
  {
   "cell_type": "markdown",
   "metadata": {},
   "source": [
    "## ToDo\n",
    "\n",
    "- initial labels\n",
    "- external labels"
   ]
  }
 ],
 "metadata": {
  "kernelspec": {
   "display_name": "default",
   "language": "python",
   "name": "python3"
  },
  "language_info": {
   "codemirror_mode": {
    "name": "ipython",
    "version": 3
   },
   "file_extension": ".py",
   "mimetype": "text/x-python",
   "name": "python",
   "nbconvert_exporter": "python",
   "pygments_lexer": "ipython3",
   "version": "3.12.7"
  }
 },
 "nbformat": 4,
 "nbformat_minor": 2
}

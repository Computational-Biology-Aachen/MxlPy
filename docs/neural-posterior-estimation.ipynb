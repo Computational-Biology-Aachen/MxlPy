{
 "cells": [
  {
   "cell_type": "code",
   "execution_count": null,
   "metadata": {},
   "outputs": [],
   "source": [
    "from __future__ import annotations\n",
    "\n",
    "from pathlib import Path\n",
    "from typing import TYPE_CHECKING\n",
    "\n",
    "import matplotlib.pyplot as plt\n",
    "import numpy as np\n",
    "import pandas as pd\n",
    "import seaborn as sns\n",
    "from example_models import get_example1\n",
    "\n",
    "from modelbase2 import Cache, Simulator, npe, scans\n",
    "from modelbase2.distributions import LogNormal, sample\n",
    "\n",
    "if TYPE_CHECKING:\n",
    "    from modelbase2.types import Array, ModelProtocol\n",
    "\n",
    "\n",
    "def create_steady_state_data(\n",
    "    model: ModelProtocol,\n",
    "    parameters: pd.DataFrame,\n",
    "    cache: Cache | None,\n",
    "    y0: dict[str, float] | None = None,\n",
    ") -> pd.DataFrame:\n",
    "    return pd.concat(\n",
    "        scans.parameter_scan_ss(\n",
    "            model=model,\n",
    "            parameters=parameters,\n",
    "            y0=y0,\n",
    "            cache=cache,\n",
    "        ),\n",
    "        axis=1,\n",
    "    ).reset_index(drop=True)\n",
    "\n",
    "\n",
    "def create_time_series_data(\n",
    "    model: ModelProtocol,\n",
    "    parameters: pd.DataFrame,\n",
    "    time_points: Array,\n",
    "    cache: Cache | None,\n",
    "    y0: dict[str, float] | None = None,\n",
    ") -> pd.DataFrame:\n",
    "    _, c, v = scans.parameter_scan_time_series(\n",
    "        model=model,\n",
    "        parameters=parameters,\n",
    "        time_points=time_points,\n",
    "        y0=y0,\n",
    "        cache=cache,\n",
    "    )\n",
    "    df = pd.concat(\n",
    "        (pd.concat(c), pd.concat(v)),\n",
    "        axis=1,\n",
    "    )\n",
    "    df.index.names = [\"n\", \"time\"]\n",
    "    return df\n"
   ]
  },
  {
   "cell_type": "markdown",
   "metadata": {},
   "source": [
    "# Create model"
   ]
  },
  {
   "cell_type": "code",
   "execution_count": null,
   "metadata": {},
   "outputs": [],
   "source": [
    "# Example plot of this models behaviour\n",
    "_ = Simulator(get_example1()).simulate(10).get_fluxes().plot()"
   ]
  },
  {
   "cell_type": "markdown",
   "metadata": {},
   "source": [
    "# Create data"
   ]
  },
  {
   "cell_type": "code",
   "execution_count": null,
   "metadata": {},
   "outputs": [],
   "source": [
    "targets = sample(\n",
    "    {\n",
    "        \"x1\": LogNormal(mean=1.0, sigma=0.3),\n",
    "        \"ATP\": LogNormal(mean=0.7, sigma=0.1),\n",
    "        \"NADPH\": LogNormal(mean=0.3, sigma=0.2),\n",
    "    },\n",
    "    n=10_000,\n",
    ")\n",
    "\n",
    "time_points = np.linspace(0, 10, 11)\n",
    "\n",
    "ss_data = create_steady_state_data(\n",
    "    get_example1(),\n",
    "    parameters=targets,\n",
    "    cache=Cache(Path(\".cache\") / \"npe-ss\"),\n",
    ")\n",
    "\n",
    "ts_data = create_time_series_data(\n",
    "    get_example1(),\n",
    "    parameters=targets,\n",
    "    time_points=time_points,\n",
    "    cache=Cache(Path(\".cache\") / \"npe-ts\"),\n",
    ")"
   ]
  },
  {
   "cell_type": "markdown",
   "metadata": {},
   "source": [
    "# Train NPE on steady-state data\n"
   ]
  },
  {
   "cell_type": "code",
   "execution_count": null,
   "metadata": {},
   "outputs": [],
   "source": [
    "features = ss_data.loc[:, [\"x2\", \"x3\"]]\n",
    "\n",
    "estimator, losses = npe.train_torch_ss_estimator(\n",
    "    features=features,\n",
    "    targets=targets,\n",
    "    epochs=5_000,\n",
    ")\n",
    "\n",
    "losses.plot()"
   ]
  },
  {
   "cell_type": "code",
   "execution_count": null,
   "metadata": {},
   "outputs": [],
   "source": [
    "fig, (ax1, ax2) = plt.subplots(\n",
    "    1,\n",
    "    2,\n",
    "    figsize=(8, 3),\n",
    "    layout=\"constrained\",\n",
    "    sharex=True,\n",
    "    sharey=True,\n",
    ")\n",
    "\n",
    "ax = sns.kdeplot(targets, fill=True, ax=ax1)\n",
    "ax.set_title(\"Prior\")\n",
    "\n",
    "posterior = estimator.predict(features)\n",
    "\n",
    "ax = sns.kdeplot(posterior, fill=True, ax=ax2)\n",
    "ax.set_title(\"Posterior\")\n",
    "plt.show()"
   ]
  },
  {
   "cell_type": "markdown",
   "metadata": {},
   "source": [
    "# Train NPE on time series data"
   ]
  },
  {
   "cell_type": "code",
   "execution_count": null,
   "metadata": {},
   "outputs": [],
   "source": [
    "features = ts_data.loc[:, [\"x2\", \"x3\"]]\n",
    "\n",
    "\n",
    "estimator, losses = npe.train_torch_time_series_estimator(\n",
    "    features=features,\n",
    "    targets=targets,\n",
    "    epochs=5_000,\n",
    ")\n",
    "\n",
    "losses.plot()"
   ]
  },
  {
   "cell_type": "code",
   "execution_count": null,
   "metadata": {},
   "outputs": [],
   "source": [
    "fig, (ax1, ax2) = plt.subplots(\n",
    "    1,\n",
    "    2,\n",
    "    figsize=(8, 3),\n",
    "    layout=\"constrained\",\n",
    "    sharex=True,\n",
    "    sharey=True,\n",
    ")\n",
    "\n",
    "ax = sns.kdeplot(targets, fill=True, ax=ax1)\n",
    "ax.set_title(\"Prior\")\n",
    "\n",
    "posterior = estimator.predict(features)\n",
    "\n",
    "ax = sns.kdeplot(posterior, fill=True, ax=ax2)\n",
    "ax.set_title(\"Posterior\")\n",
    "plt.show()"
   ]
  },
  {
   "cell_type": "code",
   "execution_count": null,
   "metadata": {},
   "outputs": [],
   "source": []
  },
  {
   "cell_type": "code",
   "execution_count": null,
   "metadata": {},
   "outputs": [],
   "source": []
  },
  {
   "cell_type": "code",
   "execution_count": null,
   "metadata": {},
   "outputs": [],
   "source": []
  }
 ],
 "metadata": {
  "kernelspec": {
   "display_name": "default",
   "language": "python",
   "name": "python3"
  },
  "language_info": {
   "codemirror_mode": {
    "name": "ipython",
    "version": 3
   },
   "file_extension": ".py",
   "mimetype": "text/x-python",
   "name": "python",
   "nbconvert_exporter": "python",
   "pygments_lexer": "ipython3",
   "version": "3.12.7"
  }
 },
 "nbformat": 4,
 "nbformat_minor": 2
}

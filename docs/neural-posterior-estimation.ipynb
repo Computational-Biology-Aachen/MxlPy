{
 "cells": [
  {
   "cell_type": "code",
   "execution_count": null,
   "metadata": {},
   "outputs": [],
   "source": [
    "from __future__ import annotations\n",
    "\n",
    "from pathlib import Path\n",
    "\n",
    "import matplotlib.pyplot as plt\n",
    "import seaborn as sns\n",
    "from example_models import get_example1\n",
    "\n",
    "from modelbase2 import Cache, Simulator, npe\n",
    "from modelbase2.distributions import LogNormal, sample\n"
   ]
  },
  {
   "cell_type": "markdown",
   "metadata": {},
   "source": [
    "# Create model"
   ]
  },
  {
   "cell_type": "code",
   "execution_count": null,
   "metadata": {},
   "outputs": [],
   "source": [
    "# Example plot of this models behaviour\n",
    "_ = Simulator(get_example1()).simulate(10).get_fluxes().plot()"
   ]
  },
  {
   "cell_type": "markdown",
   "metadata": {},
   "source": [
    "# Create data"
   ]
  },
  {
   "cell_type": "code",
   "execution_count": null,
   "metadata": {},
   "outputs": [],
   "source": [
    "targets = sample(\n",
    "    {\n",
    "        \"x1\": LogNormal(mean=1.0, sigma=0.3),\n",
    "        \"ATP\": LogNormal(mean=0.7, sigma=0.1),\n",
    "        \"NADPH\": LogNormal(mean=0.3, sigma=0.2),\n",
    "    },\n",
    "    n=10_000,\n",
    ")\n",
    "\n",
    "features = npe.create_ss_flux_data(\n",
    "    get_example1(),\n",
    "    parameters=targets,\n",
    "    cache=Cache(Path(\".cache\") / \"dist\"),\n",
    ")"
   ]
  },
  {
   "cell_type": "markdown",
   "metadata": {},
   "source": [
    "# Train NPE"
   ]
  },
  {
   "cell_type": "code",
   "execution_count": null,
   "metadata": {},
   "outputs": [],
   "source": [
    "estimator, losses = npe.train_torch_estimator(\n",
    "    features=features,\n",
    "    targets=targets,\n",
    "    epochs=10_000,\n",
    ")\n",
    "\n",
    "losses.plot()"
   ]
  },
  {
   "cell_type": "code",
   "execution_count": null,
   "metadata": {},
   "outputs": [],
   "source": [
    "fig, (ax1, ax2) = plt.subplots(\n",
    "    1,\n",
    "    2,\n",
    "    figsize=(8, 3),\n",
    "    layout=\"constrained\",\n",
    "    sharex=True,\n",
    "    sharey=True,\n",
    ")\n",
    "\n",
    "ax = sns.kdeplot(targets, fill=True, ax=ax1)\n",
    "ax.set_title(\"Prior\")\n",
    "\n",
    "posterior = estimator.predict(features.to_numpy())\n",
    "\n",
    "ax = sns.kdeplot(posterior, fill=True, ax=ax2)\n",
    "ax.set_title(\"Posterior\")\n",
    "plt.show()"
   ]
  },
  {
   "cell_type": "code",
   "execution_count": null,
   "metadata": {},
   "outputs": [],
   "source": []
  }
 ],
 "metadata": {
  "kernelspec": {
   "display_name": "default",
   "language": "python",
   "name": "python3"
  },
  "language_info": {
   "codemirror_mode": {
    "name": "ipython",
    "version": 3
   },
   "file_extension": ".py",
   "mimetype": "text/x-python",
   "name": "python",
   "nbconvert_exporter": "python",
   "pygments_lexer": "ipython3",
   "version": "3.12.7"
  }
 },
 "nbformat": 4,
 "nbformat_minor": 2
}

{
 "cells": [
  {
   "cell_type": "markdown",
   "metadata": {},
   "source": [
    "# modelbase 2.0\n",
    "\n",
    "modelbase is a Python package for metabolic modeling and analysis."
   ]
  },
  {
   "cell_type": "code",
   "execution_count": null,
   "metadata": {},
   "outputs": [],
   "source": [
    "from __future__ import annotations\n",
    "\n",
    "import itertools as it\n",
    "from pathlib import Path\n",
    "from typing import TYPE_CHECKING\n",
    "\n",
    "import matplotlib.pyplot as plt\n",
    "import numpy as np\n",
    "import pandas as pd\n",
    "import seaborn as sns\n",
    "from scipy.optimize import minimize\n",
    "\n",
    "import modelbase2 as mb2\n",
    "from example_models import (\n",
    "    get_example1,\n",
    "    get_lin_chain_two_circles,\n",
    "    get_linear_chain_2v,\n",
    "    get_upper_glycolysis,\n",
    ")\n",
    "from modelbase2 import (\n",
    "    Cache,\n",
    "    Derived,\n",
    "    LabelMapper,\n",
    "    LinearLabelMapper,\n",
    "    Model,\n",
    "    Simulator,\n",
    "    fit,\n",
    "    make_protocol,\n",
    "    mc,\n",
    "    mca,\n",
    "    npe,\n",
    "    plot,\n",
    "    sbml,\n",
    "    scan,\n",
    ")\n",
    "from modelbase2.distributions import LogNormal, Uniform, sample\n",
    "from modelbase2.surrogates import train_torch_surrogate\n",
    "from modelbase2.types import unwrap, unwrap2\n",
    "\n",
    "if TYPE_CHECKING:\n",
    "    from modelbase2.fit import ResidualFn\n",
    "\n",
    "\n",
    "def randomise_parameters(m: Model, seed: int = 42) -> Model:\n",
    "    rng = np.random.default_rng(seed=seed)\n",
    "    m.update_parameters(\n",
    "        (pd.Series(m.parameters) + rng.normal(0, 0.125, len(m.parameters))).to_dict()\n",
    "    )\n",
    "    return m"
   ]
  },
  {
   "cell_type": "markdown",
   "metadata": {},
   "source": [
    "## Building your first model\n",
    "\n",
    "Let's say you want to model the following chemical network of a linear chain of reactions\n",
    "\n",
    "$$ \\Large \\varnothing \\xrightarrow{v_0} S \\xrightarrow{v_1} P \\xrightarrow{v_2} \\varnothing $$\n",
    "\n",
    "We can translate this into a system of ordinary differential equations (ODEs)\n",
    "\n",
    "$$\\begin{align*}\n",
    "\\frac{dS}{dt} &= v_0 - v_1     \\\\\n",
    "\\frac{dP}{dt} &= v_1 - v_2 \\\\\n",
    "\\end{align*}\n",
    "$$\n",
    "\n",
    "an then choose rate equations for each rate to get the flux vector $v$\n",
    "\n",
    "$$\\begin{align*}\n",
    "    v_0 &= k_0 \\\\\n",
    "    v_1 &= k_1 * S \\\\\n",
    "    v_2 &= k_2 * P \\\\\n",
    "\\end{align*}$$\n",
    "\n",
    "Let's begin by defining rate functions $\\textbf{v}$.  \n",
    "Note that these should be **general** and **re-usable** whenever possible, to make your model clear to people reading it.  \n",
    "Try to give these functions names that are meaningful to your audience, e.g. a rate function `k * s` could be named **proportional** or **mass-action**."
   ]
  },
  {
   "cell_type": "code",
   "execution_count": null,
   "metadata": {},
   "outputs": [],
   "source": [
    "def constant(k: float) -> float:\n",
    "    return k\n",
    "\n",
    "\n",
    "def proportional(k: float, s: float) -> float:\n",
    "    return k * s"
   ]
  },
  {
   "cell_type": "markdown",
   "metadata": {},
   "source": [
    "Next, we create our model.  \n",
    "Note, that we use a single function that returns the model instead of defining it globally.  \n",
    "This allows us to quickly re-create the model whenever we need a fresh version of it.  \n",
    "\n",
    "Let's step through the code below:\n",
    "\n",
    "We first add parameters to the model using `.add_parameters({name: value})`.  \n",
    "\n",
    "Next, we add variables using `.add_variables({name: initial_value})`.  \n",
    "\n",
    "Finally, we add the three reactions by using \n",
    "\n",
    "```python\n",
    ".add_reaction(\n",
    "    name,              # the internal name for the reaction\n",
    "    fn=...,            # a python function to be evaluated\n",
    "    args=[name, ...]   # the arguments passed to the python function\n",
    "    stoichiometry={    # a mapping encoding how much the variable `name`\n",
    "        name: value    # is changed by the reaction\n",
    "    },\n",
    ")\n",
    "```"
   ]
  },
  {
   "cell_type": "code",
   "execution_count": null,
   "metadata": {},
   "outputs": [],
   "source": [
    "def linear_chain_2cpds() -> Model:\n",
    "    return (\n",
    "        Model()\n",
    "        .add_parameters({\"k_in\": 1, \"k_1\": 1, \"k_out\": 1})\n",
    "        .add_variables({\"S\": 0, \"P\": 0})\n",
    "        .add_reaction(\n",
    "            \"v0\",\n",
    "            fn=constant,\n",
    "            args=[\"k_in\"],\n",
    "            stoichiometry={\"S\": 1},\n",
    "        )\n",
    "        .add_reaction(\n",
    "            \"v1\",\n",
    "            fn=proportional,\n",
    "            args=[\"k_1\", \"S\"],\n",
    "            stoichiometry={\"S\": -1, \"P\": 1},\n",
    "        )\n",
    "        .add_reaction(\n",
    "            \"v2\",\n",
    "            fn=proportional,\n",
    "            args=[\"k_out\", \"P\"],\n",
    "            stoichiometry={\"P\": -1},\n",
    "        )\n",
    "    )"
   ]
  },
  {
   "cell_type": "markdown",
   "metadata": {},
   "source": [
    "We can then simulate the model by passing it to a `Simulator` and simulate a time series using `.simulate(t_end)`.  \n",
    "Finally, we can obtain the concentrations and fluxes using `get_concs_and_fluxes`.  \n",
    "\n",
    "While you can directly plot the `pd.DataFrame`s, modelbase supplies a variety of plots in the `plot` namespace that are worth checking out.  "
   ]
  },
  {
   "cell_type": "code",
   "execution_count": null,
   "metadata": {},
   "outputs": [],
   "source": [
    "c, v = (\n",
    "    Simulator(linear_chain_2cpds())  # initialise the simulator\n",
    "    .simulate(5)  # simulate until t_end = 5\n",
    "    .get_concs_and_fluxes()  # return pd.DataFrames for concentrations and fluxes\n",
    ")\n",
    "\n",
    "if c is not None and v is not None:\n",
    "    fig, (ax1, ax2) = plot.two_axes(figsize=(6, 3))\n",
    "    _ = plot.lines(c, ax=ax1)\n",
    "    _ = plot.lines(v, ax=ax2)\n",
    "\n",
    "    # Never forget to labelr you axes :)\n",
    "    ax1.set(xlabel=\"time / a.u.\", ylabel=\"concentration / a.u.\")\n",
    "    ax2.set(xlabel=\"time / a.u.\", ylabel=\"flux / a.u.\")\n",
    "    plt.show()"
   ]
  },
  {
   "cell_type": "markdown",
   "metadata": {},
   "source": [
    "Note, that we checked whether the results were `None` in case the simulation failed.  \n",
    "Explicitly checking using an `if` clause is the prefered error handling mechanism.  \n",
    "\n",
    "If you are **sure** the simulation won't fail, and still want your code to be type-safe, you can use `unwrap` and `unwrap2`.  \n",
    "\n",
    "```python\n",
    "c = unwrap(Simulator(model).simulate(10).get_concs())\n",
    "c, v = unwrap2(Simulator(model).simulate(10).get_concs_and_fluxes())\n",
    "```\n",
    "\n",
    "Note that these functions will throw an error if the values are `None`, which potentially might crash your programs."
   ]
  },
  {
   "cell_type": "markdown",
   "metadata": {},
   "source": [
    "## Derived quantities\n",
    "\n",
    "Frequently it makes sense to derive one quantity in a model from other quantities.  \n",
    "This can be done for\n",
    "\n",
    "- parameters derived from other parameters\n",
    "- variables derived from parameters or other variables\n",
    "- stoichiometries derived from parameters or variables (more on this later)\n",
    "\n",
    "modelbase chooses automatically whether the quantitiy is a derived parameter or variable based on the `args`.  "
   ]
  },
  {
   "cell_type": "code",
   "execution_count": null,
   "metadata": {},
   "outputs": [],
   "source": [
    "def moiety_1(x1: float, total: float) -> float:\n",
    "    return total - x1\n",
    "\n",
    "\n",
    "def model_derived() -> Model:\n",
    "    return (\n",
    "        Model()\n",
    "        .add_variables({\"ATP\": 1.0})\n",
    "        .add_parameters({\"ATP_total\": 1.0, \"k_base\": 1.0, \"e0_atpase\": 1.0})\n",
    "        # derived parameter because all args are parameters\n",
    "        .add_derived(\"k_atp\", proportional, [\"k_base\", \"e0_atpase\"])\n",
    "        # derived variable because one arg is a variable\n",
    "        .add_derived(\"ADP\", moiety_1, [\"ATP\", \"ATP_total\"])\n",
    "        .add_reaction(\n",
    "            \"ATPase\", proportional, args=[\"k_atp\", \"ATP\"], stoichiometry={\"ATP\": -1}\n",
    "        )\n",
    "    )\n",
    "\n",
    "\n",
    "c, v = Simulator(model_derived()).simulate(10).get_full_concs_and_fluxes()\n",
    "if c is not None:\n",
    "    fig, ax = plot.lines(c)\n",
    "    ax.set(xlabel=\"time / a.u.\", ylabel=\"concentration / a.u.\")\n",
    "    plt.show()"
   ]
  },
  {
   "cell_type": "markdown",
   "metadata": {},
   "source": [
    "## Introspection\n",
    "\n",
    "If the simulation didn't show the expected results, it is usually a good idea to try to pinpoint the error.  \n",
    "`modelbase` offers a variety of methods to access intermediate results.  \n",
    "\n",
    "The first is to check whether all **derived parameters** were calculate correctly.  \n",
    "For this, you can use the `get_args` method, which is named consistently with the `args` argument in all methods like `add_reaction`."
   ]
  },
  {
   "cell_type": "code",
   "execution_count": null,
   "metadata": {},
   "outputs": [],
   "source": [
    "m = linear_chain_2cpds()\n",
    "m.get_args({\"S\": 1.0, \"P\": 0.5})"
   ]
  },
  {
   "cell_type": "markdown",
   "metadata": {},
   "source": [
    "If the `args` look fine, the next step is usually to check whether the rate equations are looking as expected"
   ]
  },
  {
   "cell_type": "code",
   "execution_count": null,
   "metadata": {},
   "outputs": [],
   "source": [
    "m = linear_chain_2cpds()\n",
    "m.get_fluxes({\"S\": 1.0, \"P\": 0.5})"
   ]
  },
  {
   "cell_type": "markdown",
   "metadata": {},
   "source": [
    "and whether the stoichiometries are assigned correctly"
   ]
  },
  {
   "cell_type": "code",
   "execution_count": null,
   "metadata": {},
   "outputs": [],
   "source": [
    "m = linear_chain_2cpds()\n",
    "m.get_stoichiometries()"
   ]
  },
  {
   "cell_type": "markdown",
   "metadata": {},
   "source": [
    "Lastly, you can check the generated right hand side"
   ]
  },
  {
   "cell_type": "code",
   "execution_count": null,
   "metadata": {},
   "outputs": [],
   "source": [
    "m = linear_chain_2cpds()\n",
    "m.get_right_hand_side({\"S\": 1.0, \"P\": 0.5})"
   ]
  },
  {
   "cell_type": "markdown",
   "metadata": {},
   "source": [
    "If any of the quantities above were unexpected, you can check the model interactively by accessing the various collections.  \n",
    "\n",
    "> Note: the returned quantities are **copies** of the internal data, modifying these won't have any effect on the model"
   ]
  },
  {
   "cell_type": "markdown",
   "metadata": {},
   "source": [
    "In case you model contains derived quantitites you can access the derived quantities using `.derived`.  \n",
    "Note that this returns a **copy** of the derived quantities, so editing it won't have any effect on the model.  "
   ]
  },
  {
   "cell_type": "code",
   "execution_count": null,
   "metadata": {},
   "outputs": [],
   "source": [
    "m = model_derived()\n",
    "\n",
    "print(m.derived)"
   ]
  },
  {
   "cell_type": "markdown",
   "metadata": {},
   "source": [
    "\n",
    "If you are interested in which category modelbase has placed the derived quantities, you can access `.derived_parameters` and `.derived_variables` as well. "
   ]
  },
  {
   "cell_type": "code",
   "execution_count": null,
   "metadata": {},
   "outputs": [],
   "source": [
    "m = model_derived()\n",
    "print(m.derived_parameters)\n",
    "print(m.derived_variables)"
   ]
  },
  {
   "cell_type": "markdown",
   "metadata": {},
   "source": [
    "## CRUD\n",
    "\n",
    "The model has a complete **c**reate, **r**ead, **u**pdate, **d**elete API for all it's elements.  \n",
    "The methods and attributes are named consistenly, with `add` instead of `create` and `get` instead of `read`.  \n",
    "Note that the elements itself are accessible as `properties`, e.g. `.parameters` which will return **copies** of the data.  \n",
    "Only use the supplied methods to change the internal state of the model.\n",
    "\n",
    "Here are some example methods and attributes for parameters\n",
    "\n",
    "| Functionality | Parameters                                                                              |\n",
    "| ------------- | --------------------------------------------------------------------------------------- |\n",
    "| Create        | `.add_parameter()`, `.add_parameters()`                                                 |\n",
    "| Read          | `.parameters`, `.get_parameter_names()`                                                 |\n",
    "| Update        | `.update_parameter()`, `.update_parameters()`, `.scale_parameter()`, `scale.parameters()` |\n",
    "| Delete        | `.remove_parameter()`, `.remove_parameters()`                                           |\n",
    "\n",
    "and variables\n",
    "\n",
    "| Functionality | Variables                                                         |\n",
    "| ------------- | ----------------------------------------------------------------- |\n",
    "| Create        | `.add_variable()`, `.add_variables()`                             |\n",
    "| Read          | `.variables`, `.get_variable_names()`, `get_initial_conditions()` |\n",
    "| Update        | `.update_variable()`, `.update_variables()`                         |\n",
    "| Delete        | `.remove_parameter()`, `.remove_parameters()`                     |\n"
   ]
  },
  {
   "cell_type": "code",
   "execution_count": null,
   "metadata": {},
   "outputs": [],
   "source": [
    "# Get model\n",
    "m = linear_chain_2cpds()\n",
    "\n",
    "# Calculate fluxes\n",
    "print(\"Before update\", m.get_fluxes({\"S\": 1.0, \"P\": 0.5}), sep=\"\\n\", end=\"\\n\\n\")\n",
    "\n",
    "# Update parameters\n",
    "m.update_parameters({\"k_in\": 2.0})\n",
    "\n",
    "# Calculate fluxes again\n",
    "print(\"After update\", m.get_fluxes({\"S\": 1.0, \"P\": 0.5}), sep=\"\\n\")"
   ]
  },
  {
   "cell_type": "markdown",
   "metadata": {},
   "source": [
    "## Derived stoichiometries\n",
    "\n",
    "To define derived stoichiometries you need to use the `Derived` class as a value in the stoichiometries.  "
   ]
  },
  {
   "cell_type": "code",
   "execution_count": null,
   "metadata": {},
   "outputs": [],
   "source": [
    "c, v = unwrap2(\n",
    "    Simulator(\n",
    "        Model()\n",
    "        .add_parameters({\"stoich\": -1.0, \"k\": 1.0})\n",
    "        .add_variables({\"x\": 1.0})\n",
    "        .add_reaction(\n",
    "            \"name\",\n",
    "            proportional,\n",
    "            args=[\"x\", \"k\"],\n",
    "            # Define derived stoichiometry here\n",
    "            stoichiometry={\"x\": Derived(constant, [\"stoich\"])},\n",
    "        )\n",
    "    )\n",
    "    .simulate(1)\n",
    "    # Update parameter the derived stoichiometry depends on\n",
    "    .update_parameter(\"stoich\", -4.0)\n",
    "    # Continue simulation\n",
    "    .simulate(5)\n",
    "    .get_concs_and_fluxes()\n",
    ")\n",
    "\n",
    "_, ax = plot.lines(c)\n",
    "ax.set(xlabel=\"time / a.u.\", ylabel=\"concentration / a.u.\")\n",
    "plt.show()"
   ]
  },
  {
   "cell_type": "markdown",
   "metadata": {},
   "source": [
    "## Advanced simulations\n",
    "\n",
    "By default, the `Simulator` is initialised with the initial concentrations set in the `Model`.  \n",
    "Optionally, you can overwrite the initial conditions using the `y0` argument.  \n",
    "\n",
    "```python\n",
    "Simulator(model, y0={name: value, ...})\n",
    "```"
   ]
  },
  {
   "cell_type": "code",
   "execution_count": null,
   "metadata": {},
   "outputs": [],
   "source": [
    "c, v = unwrap2(\n",
    "    Simulator(linear_chain_2cpds(), y0={\"S\": 2.0, \"P\": 0.0})  # initialise the simulator\n",
    "    .simulate(10)  # simulate until t_end = 10\n",
    "    .get_concs_and_fluxes()  # return pd.DataFrames for concentrations and fluxes\n",
    ")\n",
    "\n",
    "fig, (ax1, ax2) = plot.two_axes(figsize=(6, 3))\n",
    "_ = plot.lines(c, ax=ax1)\n",
    "_ = plot.lines(v, ax=ax2)\n",
    "\n",
    "ax1.set(xlabel=\"time / a.u.\", ylabel=\"concentration / a.u.\")\n",
    "ax2.set(xlabel=\"time / a.u.\", ylabel=\"flux / a.u.\")\n",
    "plt.show()"
   ]
  },
  {
   "cell_type": "markdown",
   "metadata": {},
   "source": [
    "### Time course\n",
    "\n",
    "You can obtain the time course of integration using the `simulate` method.  \n",
    "There are three ways how you can define the time points this function returns.  \n",
    "\n",
    "1. supply the end time `t_end`\n",
    "2. supply both end time and number of steps with `steps`\n",
    "3. supply the exact time points to be returned using `time_points`\n",
    "\n",
    "```python\n",
    "simulate(t_end=10)\n",
    "simulate(t_end=10, steps=10)\n",
    "simulate(time_points=np.linspace(0, 10, 11))\n",
    "```\n",
    "\n",
    "> Note that these settings don't change the integration itself (e.g. tolerances)!"
   ]
  },
  {
   "cell_type": "code",
   "execution_count": null,
   "metadata": {},
   "outputs": [],
   "source": [
    "concs, fluxes = unwrap2(\n",
    "    Simulator(get_linear_chain_2v())  # optionally supply initial conditions\n",
    "    .simulate(t_end=10)\n",
    "    .get_concs_and_fluxes()\n",
    ")\n",
    "\n",
    "fig, ax = plot.lines(concs)\n",
    "ax.set(xlabel=\"time / a.u.\", ylabel=\"concentration / a.u.\")\n",
    "plt.show()"
   ]
  },
  {
   "cell_type": "markdown",
   "metadata": {},
   "source": [
    "### Protocol time course\n",
    "\n",
    "Protocols are used to make parameter changes discrete in time.  \n",
    "This is useful e.g. for reproducing experimental time courses where a parameter was changed at fixed time points.  "
   ]
  },
  {
   "cell_type": "code",
   "execution_count": null,
   "metadata": {},
   "outputs": [],
   "source": [
    "protocol = make_protocol(\n",
    "    {\n",
    "        1: {\"k1\": 1},\n",
    "        2: {\"k1\": 2},\n",
    "        3: {\"k1\": 1},\n",
    "    }\n",
    ")\n",
    "concs, fluxes = unwrap2(\n",
    "    Simulator(get_linear_chain_2v())\n",
    "    .simulate_over_protocol(protocol)\n",
    "    .get_concs_and_fluxes()\n",
    ")\n",
    "\n",
    "fig, ax = plt.subplots()\n",
    "plot.lines(concs, ax=ax)\n",
    "plot.shade_protocol(protocol[\"k1\"], ax=ax, alpha=0.1)\n",
    "ax.set(xlabel=\"time / a.u.\", ylabel=\"concentration / a.u.\")\n",
    "plt.show()"
   ]
  },
  {
   "cell_type": "markdown",
   "metadata": {},
   "source": [
    "### Steady-state\n",
    "\n",
    "You can simulate until the model reaches a steady-state using the `simulate_to_steady_state` method.  \n"
   ]
  },
  {
   "cell_type": "code",
   "execution_count": null,
   "metadata": {},
   "outputs": [],
   "source": [
    "concs, fluxes = unwrap2(\n",
    "    Simulator(get_linear_chain_2v())  # optionally supply initial conditions\n",
    "    .simulate_to_steady_state()\n",
    "    .get_concs_and_fluxes()\n",
    ")\n",
    "\n",
    "fig, ax = plot.bars(concs)\n",
    "ax.set(xlabel=\"Variable / a.u.\", ylabel=\"Concentration / a.u.\")\n",
    "plt.show()"
   ]
  },
  {
   "cell_type": "markdown",
   "metadata": {},
   "source": [
    "## Parameter scans\n",
    "\n",
    "`modelbase` has a variety of parameter scans available in the `scan` module.  \n",
    "They differ by the kind of data returned by them, e.g. steady-states or time course of concentration and fluxes.\n",
    "\n",
    "In all cases, the parameters which you want to scan over are passed as a `pandas.DataFrame`."
   ]
  },
  {
   "cell_type": "markdown",
   "metadata": {},
   "source": [
    "### Steady-state\n",
    "\n",
    "The steady-state scan takes a `pandas.DataFrame` of parameters to be scanned as an input and returns the steady-states at the respective parameter values.  "
   ]
  },
  {
   "cell_type": "code",
   "execution_count": null,
   "metadata": {},
   "outputs": [],
   "source": [
    "res = scan.steady_state(\n",
    "    get_linear_chain_2v(),\n",
    "    parameters=pd.DataFrame({\"k1\": np.linspace(1, 3, 11)}),\n",
    ")\n",
    "\n",
    "fig, (ax1, ax2) = plot.two_axes(figsize=(7, 3))\n",
    "plot.lines(res.concs, ax=ax1)  # access concentrations by name\n",
    "plot.lines(res.fluxes, ax=ax2)  # access fluxes by name\n",
    "\n",
    "ax1.set(ylabel=\"Concentration / a.u.\")\n",
    "ax2.set(ylabel=\"Flux / a.u.\")\n",
    "plt.show()"
   ]
  },
  {
   "cell_type": "markdown",
   "metadata": {},
   "source": [
    "All scans return some kind of result object, which allow multiple access patterns for convenience. \n",
    "\n",
    "Namely, the concentrations and fluxes can be accessed by name, unpacked or combined into a single dataframe."
   ]
  },
  {
   "cell_type": "code",
   "execution_count": null,
   "metadata": {},
   "outputs": [],
   "source": [
    "# Access by name\n",
    "_ = res.concs\n",
    "_ = res.fluxes\n",
    "\n",
    "# scan can be unpacked\n",
    "concs, fluxes = res\n",
    "\n",
    "# combine concs and fluxes as single dataframe\n",
    "_ = res.results"
   ]
  },
  {
   "cell_type": "markdown",
   "metadata": {},
   "source": [
    "#### Combinations\n",
    "\n",
    "Often you want to scan over multiple parameters at the same time.  \n",
    "The recommended way to do this is to use the `cartesian_product` function, which takes a `parameter_name: values` mapping and creates a `pandas.DataFrame` of their combinations from it (think nested for loop).  \n",
    "\n",
    "In the case the parameters `DataFrame` contains more than one column, the returned `pandas.DataFrame` will contain a `pandas.MultiIndex`.  "
   ]
  },
  {
   "cell_type": "code",
   "execution_count": null,
   "metadata": {},
   "outputs": [],
   "source": [
    "res = scan.steady_state(\n",
    "    get_linear_chain_2v(),\n",
    "    parameters=mb2.cartesian_product(\n",
    "        {\n",
    "            \"k1\": np.linspace(1, 2, 3),\n",
    "            \"k2\": np.linspace(1, 2, 4),\n",
    "        }\n",
    "    ),\n",
    ")\n",
    "\n",
    "res.results.head()"
   ]
  },
  {
   "cell_type": "markdown",
   "metadata": {},
   "source": [
    "You can plot the results of a **single variable** of this scan using a heatmap"
   ]
  },
  {
   "cell_type": "code",
   "execution_count": null,
   "metadata": {},
   "outputs": [],
   "source": [
    "plot.heatmap_from_2d_idx(res.concs, variable=\"x\")\n",
    "plt.show()"
   ]
  },
  {
   "cell_type": "markdown",
   "metadata": {},
   "source": [
    "Or create heatmaps of all passed variables at once.  "
   ]
  },
  {
   "cell_type": "code",
   "execution_count": null,
   "metadata": {},
   "outputs": [],
   "source": [
    "plot.heatmaps_from_2d_idx(res.concs)\n",
    "plt.show()"
   ]
  },
  {
   "cell_type": "markdown",
   "metadata": {},
   "source": [
    "You can also combine more than two parameters, however, visualisation then becomes challenging.  "
   ]
  },
  {
   "cell_type": "code",
   "execution_count": null,
   "metadata": {},
   "outputs": [],
   "source": [
    "res = scan.steady_state(\n",
    "    get_linear_chain_2v(),\n",
    "    mb2.cartesian_product(\n",
    "        {\n",
    "            \"k1\": np.linspace(1, 2, 3),\n",
    "            \"k2\": np.linspace(1, 2, 4),\n",
    "            \"k3\": np.linspace(1, 2, 4),\n",
    "        }\n",
    "    ),\n",
    ")\n",
    "res.results.head()"
   ]
  },
  {
   "cell_type": "markdown",
   "metadata": {},
   "source": [
    "### Time courses\n",
    "\n",
    "You can perform a time course for each of the parameter values.  \n",
    "The index now also contains the time, so even for one parameter a `pandas.MultiIndex` is used."
   ]
  },
  {
   "cell_type": "code",
   "execution_count": null,
   "metadata": {},
   "outputs": [],
   "source": [
    "tss = scan.time_course(\n",
    "    get_linear_chain_2v(),\n",
    "    parameters=pd.DataFrame({\"k1\": np.linspace(1, 2, 11)}),\n",
    "    time_points=np.linspace(0, 1, 11),\n",
    ")\n",
    "\n",
    "fig, (ax1, ax2) = plot.two_axes(figsize=(7, 4))\n",
    "plot.lines_mean_std_from_2d_idx(tss.concs, ax=ax1)\n",
    "plot.lines_mean_std_from_2d_idx(tss.fluxes, ax=ax2)\n",
    "\n",
    "ax1.set(xlabel=\"time / a.u.\", ylabel=\"Concentration / a.u.\")\n",
    "ax2.set(xlabel=\"time / a.u.\", ylabel=\"Flux / a.u.\")\n",
    "plt.show()"
   ]
  },
  {
   "cell_type": "markdown",
   "metadata": {},
   "source": [
    "Again, this works for an arbitray number of parameters."
   ]
  },
  {
   "cell_type": "code",
   "execution_count": null,
   "metadata": {},
   "outputs": [],
   "source": [
    "tss = scan.time_course(\n",
    "    get_linear_chain_2v(),\n",
    "    parameters=mb2.cartesian_product(\n",
    "        {\n",
    "            \"k1\": np.linspace(1, 2, 11),\n",
    "            \"k2\": np.linspace(1, 2, 4),\n",
    "        }\n",
    "    ),\n",
    "    time_points=np.linspace(0, 1, 11),\n",
    ")\n",
    "\n",
    "\n",
    "fig, (ax1, ax2) = plot.two_axes(figsize=(7, 4))\n",
    "plot.lines_mean_std_from_2d_idx(tss.concs, ax=ax1)\n",
    "plot.lines_mean_std_from_2d_idx(tss.fluxes, ax=ax2)\n",
    "ax1.set(xlabel=\"time / a.u.\", ylabel=\"Concentration / a.u.\")\n",
    "ax2.set(xlabel=\"time / a.u.\", ylabel=\"Flux / a.u.\")\n",
    "plt.show()"
   ]
  },
  {
   "cell_type": "markdown",
   "metadata": {},
   "source": [
    "The scan object returned has a `pandas.MultiIndex` of `n x time`, where `n` is an index that references parameter combinations.  \n",
    "You can access the referenced parameters using `.parameters`"
   ]
  },
  {
   "cell_type": "code",
   "execution_count": null,
   "metadata": {},
   "outputs": [],
   "source": [
    "tss.parameters.head()"
   ]
  },
  {
   "cell_type": "markdown",
   "metadata": {},
   "source": [
    "You can also easily access common aggregates using `get_agg_per_time`.  "
   ]
  },
  {
   "cell_type": "code",
   "execution_count": null,
   "metadata": {},
   "outputs": [],
   "source": [
    "tss.get_agg_per_time(\"std\").head()"
   ]
  },
  {
   "cell_type": "markdown",
   "metadata": {},
   "source": [
    "### Protocol\n",
    "\n",
    "The same can be done for protocols.  "
   ]
  },
  {
   "cell_type": "code",
   "execution_count": null,
   "metadata": {},
   "outputs": [],
   "source": [
    "res = scan.time_course_over_protocol(\n",
    "    get_linear_chain_2v(),\n",
    "    parameters=pd.DataFrame({\"k2\": np.linspace(1, 2, 11)}),\n",
    "    protocol=make_protocol(\n",
    "        {\n",
    "            1: {\"k1\": 1},\n",
    "            2: {\"k1\": 2},\n",
    "            3: {\"k1\": 1},\n",
    "        }\n",
    "    ),\n",
    ")\n",
    "\n",
    "fig, (ax1, ax2) = plot.two_axes(figsize=(7, 4))\n",
    "plot.lines_mean_std_from_2d_idx(res.concs, ax=ax1)\n",
    "plot.lines_mean_std_from_2d_idx(res.fluxes, ax=ax2)\n",
    "ax1.set(xlabel=\"time / a.u.\", ylabel=\"Concentration / a.u.\")\n",
    "ax2.set(xlabel=\"time / a.u.\", ylabel=\"Flux / a.u.\")\n",
    "\n",
    "for ax in (ax1, ax2):\n",
    "    plot.shade_protocol(res.protocol[\"k1\"], ax=ax, alpha=0.2)\n",
    "plt.show()"
   ]
  },
  {
   "cell_type": "markdown",
   "metadata": {},
   "source": [
    "## Metabolic control analysis\n",
    "\n",
    "`modelbase` supports both elasticities (arbitrary state) and response coefficients (steady-state) measurements from metabolic control analysis.  \n",
    "They can all be found in the `modelbase2.mca` namespace.  "
   ]
  },
  {
   "cell_type": "markdown",
   "metadata": {},
   "source": [
    "### Variable elasticities\n",
    "\n",
    "Variable elasticities are the sensitivity of reactions to a small change in the concentration of a variable.  \n",
    "They are **not** a steady-state measurement and can be calculated for any arbitrary state.  \n",
    "\n",
    "Both the `concs` and `variables` arguments are optional.  \n",
    "If `concs` is not supplied, the routine will use the initial conditions from the model.  \n",
    "If `variables` is not supplied, the elasticities will be calculated for all variables.  "
   ]
  },
  {
   "cell_type": "code",
   "execution_count": null,
   "metadata": {},
   "outputs": [],
   "source": [
    "elas = mca.variable_elasticities(\n",
    "    get_upper_glycolysis(),\n",
    "    concs={\n",
    "        \"GLC\": 0.3,\n",
    "        \"G6P\": 0.4,\n",
    "        \"F6P\": 0.5,\n",
    "        \"FBP\": 0.6,\n",
    "        \"ATP\": 0.4,\n",
    "        \"ADP\": 0.6,\n",
    "    },\n",
    "    variables=[\"GLC\", \"F6P\"],\n",
    ")\n",
    "\n",
    "_ = plot.heatmap(elas)\n",
    "plt.show()"
   ]
  },
  {
   "cell_type": "markdown",
   "metadata": {},
   "source": [
    "### Parameter elasticities\n",
    "\n",
    "Parameter elasticities are the sensitivity of reactions to a small change in the concentration of a variable.  \n",
    "They are **not** a steady-state measurement and can be calculated for any arbitrary state.  \n",
    "\n",
    "Both the `concs` and `parameters` arguments are optional.  \n",
    "If `concs` is not supplied, the routine will use the initial conditions from the model.  \n",
    "If `parameters` is not supplied, the elasticities will be calculated for all parameters.  "
   ]
  },
  {
   "cell_type": "code",
   "execution_count": null,
   "metadata": {},
   "outputs": [],
   "source": [
    "elas = mca.parameter_elasticities(\n",
    "    get_upper_glycolysis(),\n",
    "    concs={\n",
    "        \"GLC\": 0.3,\n",
    "        \"G6P\": 0.4,\n",
    "        \"F6P\": 0.5,\n",
    "        \"FBP\": 0.6,\n",
    "        \"ATP\": 0.4,\n",
    "        \"ADP\": 0.6,\n",
    "    },\n",
    "    parameters=[\"k1\", \"k2\"],\n",
    ")\n",
    "\n",
    "_ = plot.heatmap(elas)\n",
    "plt.show()"
   ]
  },
  {
   "cell_type": "markdown",
   "metadata": {},
   "source": [
    "### Response coefficients\n",
    "\n",
    "Response coefficients show the sensitivity of variables and reactions **at steady-state** to a small change in a parameter.  \n",
    "\n",
    "If the parameter is proportional to the rate, they are also called **control coefficients**."
   ]
  },
  {
   "cell_type": "code",
   "execution_count": null,
   "metadata": {},
   "outputs": [],
   "source": [
    "crcs, frcs = mca.response_coefficients(\n",
    "    get_upper_glycolysis(),\n",
    "    parameters=[\"k1\", \"k2\", \"k3\", \"k4\", \"k5\", \"k6\", \"k7\"],\n",
    ")\n",
    "\n",
    "fig, (ax1, ax2) = plt.subplots(1, 2, figsize=(12, 4))\n",
    "_ = plot.heatmap(crcs, ax=ax1)\n",
    "_ = plot.heatmap(frcs, ax=ax2)\n",
    "plt.show()"
   ]
  },
  {
   "cell_type": "markdown",
   "metadata": {},
   "source": [
    "## Fitting\n",
    "\n",
    "Models can be fitted to both steady-state and time course data.  \n",
    "You can both use concentrations and fluxes for this.  \n",
    "Let's create some data first to fit our model to:"
   ]
  },
  {
   "cell_type": "code",
   "execution_count": null,
   "metadata": {},
   "outputs": [],
   "source": [
    "model_fn = get_linear_chain_2v\n",
    "p_true = {\"k1\": 1.0, \"k2\": 2.0, \"k3\": 1.0}\n",
    "res = unwrap(\n",
    "    Simulator(model_fn())\n",
    "    .update_parameters(p_true)\n",
    "    .simulate(time_points=np.linspace(0, 10, 101))\n",
    "    .get_results()\n",
    ")\n",
    "\n",
    "fig, ax = plot.lines(res)\n",
    "ax.set(xlabel=\"time / a.u.\", ylabel=\"Conc. & Flux / a.u.\")\n",
    "plt.show()"
   ]
  },
  {
   "cell_type": "markdown",
   "metadata": {},
   "source": [
    "### Steady-states\n",
    "\n",
    "For the steady-state fit we need one `pandas.Series` as an input.  \n",
    "The fitting routine will compare all data contained in that series to the model output.  "
   ]
  },
  {
   "cell_type": "code",
   "execution_count": null,
   "metadata": {},
   "outputs": [],
   "source": [
    "fit.steady_state(\n",
    "    model_fn(),\n",
    "    p0={\"k1\": 1.038, \"k2\": 1.87, \"k3\": 1.093},\n",
    "    data=res.iloc[-1],\n",
    ")"
   ]
  },
  {
   "cell_type": "markdown",
   "metadata": {},
   "source": [
    "If only some of the data is required, you can use a subset of it.  \n",
    "The fitting routine will only try to fit concentrations and fluxes contained in that series."
   ]
  },
  {
   "cell_type": "code",
   "execution_count": null,
   "metadata": {},
   "outputs": [],
   "source": [
    "fit.steady_state(\n",
    "    model_fn(),\n",
    "    p0={\"k1\": 1.038, \"k2\": 1.87, \"k3\": 1.093},\n",
    "    data=res.iloc[-1].loc[[\"x\", \"y\"]],\n",
    ")"
   ]
  },
  {
   "cell_type": "markdown",
   "metadata": {},
   "source": [
    "### Time course\n",
    "\n",
    "For the steady-state fit we need a `pandas.DataFrame` as an input.  \n",
    "Other than that, the same rules of the steady-state fitting apply.  "
   ]
  },
  {
   "cell_type": "code",
   "execution_count": null,
   "metadata": {},
   "outputs": [],
   "source": [
    "fit.time_course(\n",
    "    model_fn(),\n",
    "    p0={\"k1\": 1.038, \"k2\": 1.87, \"k3\": 1.093},\n",
    "    data=res,\n",
    ")"
   ]
  },
  {
   "cell_type": "markdown",
   "metadata": {},
   "source": [
    "### Customisation\n",
    "\n",
    "You can use depdency injection to overwrite the minimisation function as well as the residual function and the integrator.  \n",
    "Here we create a custom minimization function.  "
   ]
  },
  {
   "cell_type": "code",
   "execution_count": null,
   "metadata": {},
   "outputs": [],
   "source": [
    "def nealder_mead(\n",
    "    residual_fn: ResidualFn,\n",
    "    p0: dict[str, float],\n",
    ") -> dict[str, float]:\n",
    "    res = minimize(\n",
    "        residual_fn,\n",
    "        x0=list(p0.values()),\n",
    "        method=\"Nelder-Mead\",\n",
    "    )\n",
    "    if res.success:\n",
    "        return dict(\n",
    "            zip(\n",
    "                p0,\n",
    "                res.x,\n",
    "                strict=True,\n",
    "            )\n",
    "        )\n",
    "    return dict(zip(p0, np.full(len(p0), np.nan, dtype=float), strict=True))\n",
    "\n",
    "\n",
    "fit.time_course(\n",
    "    model_fn(),\n",
    "    p0={\"k1\": 1.038, \"k2\": 1.87, \"k3\": 1.093},\n",
    "    data=res,\n",
    "    minimize_fn=nealder_mead,\n",
    ")"
   ]
  },
  {
   "cell_type": "markdown",
   "metadata": {},
   "source": [
    "## Monte-carlo scans\n",
    "\n",
    "Most model parameters in the natural sciences are typically best described using **distributions**.  \n",
    "Thus, to get the distribution of realistic behaviour, `modelbase` supplies monte-carlo methods of all other analyses.\n",
    "\n",
    "For that, you supply a `pandas.DataFrame` of parameter values randomly drawn from different distributions.  \n",
    "You can use the `sample` function and distributions supplied by modelbase.  "
   ]
  },
  {
   "cell_type": "code",
   "execution_count": null,
   "metadata": {},
   "outputs": [],
   "source": [
    "sample(\n",
    "    {\n",
    "        \"k2\": Uniform(1.0, 2.0),\n",
    "        \"k3\": LogNormal(mean=1.0, sigma=1.0),\n",
    "    },\n",
    "    n=5,\n",
    ")"
   ]
  },
  {
   "cell_type": "markdown",
   "metadata": {},
   "source": [
    "If you want to create custom distributions, all you need to do is to create a class that follows the `Distribution` protocol, e.g. implements a sample function.  \n",
    "\n",
    "```python\n",
    "class MyOwnDistribution:\n",
    "    def sample(self, num: int) -> Array:\n",
    "        # implement here\n",
    "```\n",
    "\n",
    "and it can be used in the `sample` function as well. "
   ]
  },
  {
   "cell_type": "markdown",
   "metadata": {},
   "source": [
    "### monte-carlo steady-states\n",
    "\n",
    "Using `mc.steady_state` you can calculate the steady-state distribution given the monte-carlo parameters.  "
   ]
  },
  {
   "cell_type": "code",
   "execution_count": null,
   "metadata": {},
   "outputs": [],
   "source": [
    "ss = mc.steady_state(\n",
    "    get_linear_chain_2v(),\n",
    "    mc_parameters=sample(\n",
    "        {\n",
    "            \"k1\": Uniform(0.9, 1.1),\n",
    "            \"k2\": Uniform(1.0, 1.3),\n",
    "            \"k3\": LogNormal(mean=1.0, sigma=0.2),\n",
    "        },\n",
    "        n=10,\n",
    "    ),\n",
    ")\n",
    "\n",
    "fig, (ax1, ax2) = plot.two_axes(figsize=(7, 4), sharex=False)\n",
    "plot.violins(ss.concs, ax=ax1)\n",
    "plot.violins(ss.fluxes, ax=ax2)\n",
    "ax1.set(xlabel=\"Variables\", ylabel=\"Concentration / a.u.\")\n",
    "ax2.set(xlabel=\"Reactions\", ylabel=\"Flux / a.u.\")\n",
    "plt.show()"
   ]
  },
  {
   "cell_type": "markdown",
   "metadata": {},
   "source": [
    "### monte-carlo time series\n",
    "\n",
    "Using `mc.time_course` you can calculate time courses for sampled parameters.  \n",
    "\n",
    "The `pandas.DataFrame`s for concentrations and fluxes have a `n x time` `pandas.MultiIndex`.  \n",
    "The corresponding parameters can be found in `scan.parameters`"
   ]
  },
  {
   "cell_type": "code",
   "execution_count": null,
   "metadata": {},
   "outputs": [],
   "source": [
    "tc = mc.time_course(\n",
    "    get_linear_chain_2v(),\n",
    "    time_points=np.linspace(0, 1, 11),\n",
    "    mc_parameters=sample(\n",
    "        {\n",
    "            \"k1\": Uniform(0.9, 1.1),\n",
    "            \"k2\": Uniform(1.0, 1.3),\n",
    "            \"k3\": LogNormal(mean=1.0, sigma=0.2),\n",
    "        },\n",
    "        n=10,\n",
    "    ),\n",
    ")\n",
    "\n",
    "fig, (ax1, ax2) = plot.two_axes(figsize=(7, 4))\n",
    "plot.lines_mean_std_from_2d_idx(tc.concs, ax=ax1)\n",
    "plot.lines_mean_std_from_2d_idx(tc.fluxes, ax=ax2)\n",
    "ax1.set(xlabel=\"Time / a.u\", ylabel=\"Concentration / a.u.\")\n",
    "ax2.set(xlabel=\"Time / a.u\", ylabel=\"Flux / a.u.\")\n",
    "plt.show()"
   ]
  },
  {
   "cell_type": "markdown",
   "metadata": {},
   "source": [
    "### mc protocol\n",
    "\n",
    "\n",
    "Using `mc.time_course_over_protocol` you can calculate time courses for sampled parameters given a discrete protocol.  \n",
    "\n",
    "The `pandas.DataFrame`s for concentrations and fluxes have a `n x time` `pandas.MultiIndex`.  \n",
    "The corresponding parameters can be found in `scan.parameters`"
   ]
  },
  {
   "cell_type": "code",
   "execution_count": null,
   "metadata": {},
   "outputs": [],
   "source": [
    "tc = mc.time_course_over_protocol(\n",
    "    get_linear_chain_2v(),\n",
    "    time_points_per_step=10,\n",
    "    protocol=make_protocol(\n",
    "        {\n",
    "            1: {\"k1\": 1},\n",
    "            2: {\"k1\": 2},\n",
    "            3: {\"k1\": 1},\n",
    "        }\n",
    "    ),\n",
    "    mc_parameters=sample(\n",
    "        {\n",
    "            \"k2\": Uniform(1.0, 1.3),\n",
    "            \"k3\": LogNormal(mean=1.0, sigma=0.2),\n",
    "        },\n",
    "        n=10,\n",
    "    ),\n",
    ")\n",
    "\n",
    "fig, (ax1, ax2) = plot.two_axes(figsize=(7, 4))\n",
    "plot.lines_mean_std_from_2d_idx(tc.concs, ax=ax1)\n",
    "plot.lines_mean_std_from_2d_idx(tc.fluxes, ax=ax2)\n",
    "for ax in (ax1, ax2):\n",
    "    plot.shade_protocol(tc.protocol[\"k1\"], ax=ax, alpha=0.1)\n",
    "\n",
    "ax1.set(xlabel=\"Time / a.u\", ylabel=\"Concentration / a.u.\")\n",
    "ax2.set(xlabel=\"Time / a.u\", ylabel=\"Flux / a.u.\")\n",
    "plt.show()"
   ]
  },
  {
   "cell_type": "markdown",
   "metadata": {},
   "source": [
    "### mc metabolic control analysis"
   ]
  },
  {
   "cell_type": "markdown",
   "metadata": {},
   "source": [
    "#### Variable elasticities\n",
    "\n",
    "The returned `pandas.DataFrame` has a `pd.MultiIndex` of shape `n x reaction`.  "
   ]
  },
  {
   "cell_type": "code",
   "execution_count": null,
   "metadata": {},
   "outputs": [],
   "source": [
    "mc_elas = mc.variable_elasticities(\n",
    "    get_upper_glycolysis(),\n",
    "    concs={\n",
    "        \"GLC\": 0.3,\n",
    "        \"G6P\": 0.4,\n",
    "        \"F6P\": 0.5,\n",
    "        \"FBP\": 0.6,\n",
    "        \"ATP\": 0.4,\n",
    "        \"ADP\": 0.6,\n",
    "    },\n",
    "    variables=[\"GLC\", \"F6P\"],\n",
    "    mc_parameters=sample(\n",
    "        {\n",
    "            # \"k1\": LogNormal(mean=np.log(0.25), sigma=1.0),\n",
    "            # \"k2\": LogNormal(mean=np.log(1.0), sigma=1.0),\n",
    "            \"k3\": LogNormal(mean=np.log(1.0), sigma=1.0),\n",
    "            # \"k4\": LogNormal(mean=np.log(1.0), sigma=1.0),\n",
    "            # \"k5\": LogNormal(mean=np.log(1.0), sigma=1.0),\n",
    "            # \"k6\": LogNormal(mean=np.log(1.0), sigma=1.0),\n",
    "            # \"k7\": LogNormal(mean=np.log(2.5), sigma=1.0),\n",
    "        },\n",
    "        n=5,\n",
    "    ),\n",
    ")\n",
    "\n",
    "_ = plot.violins_from_2d_idx(mc_elas)\n",
    "plt.show()"
   ]
  },
  {
   "cell_type": "markdown",
   "metadata": {},
   "source": [
    "#### Parameter elasticities"
   ]
  },
  {
   "cell_type": "code",
   "execution_count": null,
   "metadata": {},
   "outputs": [],
   "source": [
    "elas = mc.parameter_elasticities(\n",
    "    get_upper_glycolysis(),\n",
    "    concs={\n",
    "        \"GLC\": 0.3,\n",
    "        \"G6P\": 0.4,\n",
    "        \"F6P\": 0.5,\n",
    "        \"FBP\": 0.6,\n",
    "        \"ATP\": 0.4,\n",
    "        \"ADP\": 0.6,\n",
    "    },\n",
    "    parameters=[\"k1\", \"k2\", \"k3\"],\n",
    "    mc_parameters=sample(\n",
    "        {\n",
    "            \"k3\": LogNormal(mean=np.log(0.25), sigma=1.0),\n",
    "        },\n",
    "        n=5,\n",
    "    ),\n",
    ")\n",
    "\n",
    "_ = plot.violins_from_2d_idx(elas)\n",
    "plt.show()"
   ]
  },
  {
   "cell_type": "markdown",
   "metadata": {},
   "source": [
    "#### Response coefficients"
   ]
  },
  {
   "cell_type": "code",
   "execution_count": null,
   "metadata": {},
   "outputs": [],
   "source": [
    "# Compare with \"normal\" control coefficients\n",
    "rc = mca.response_coefficients(\n",
    "    get_lin_chain_two_circles(),\n",
    "    parameters=[\"vmax_1\", \"vmax_2\", \"vmax_3\", \"vmax_5\", \"vmax_6\"],\n",
    ")\n",
    "_ = plot.heatmap(rc.concs)\n",
    "\n",
    "mrc = mc.response_coefficients(\n",
    "    get_lin_chain_two_circles(),\n",
    "    parameters=[\"vmax_1\", \"vmax_2\", \"vmax_3\", \"vmax_5\", \"vmax_6\"],\n",
    "    mc_parameters=sample(\n",
    "        {\n",
    "            \"k0\": LogNormal(np.log(1.0), 1.0),\n",
    "            \"k4\": LogNormal(np.log(0.5), 1.0),\n",
    "        },\n",
    "        n=10,\n",
    "    ),\n",
    ")\n",
    "\n",
    "_ = plot.violins_from_2d_idx(mrc.concs, n_cols=len(mrc.concs.columns))"
   ]
  },
  {
   "cell_type": "markdown",
   "metadata": {},
   "source": [
    "### mc steady-state parameter scan\n",
    "\n",
    "Vary **both** monte carlo parameters as well as systematically scan for other parameters"
   ]
  },
  {
   "cell_type": "code",
   "execution_count": null,
   "metadata": {},
   "outputs": [],
   "source": [
    "mcss = mc.scan_steady_state(\n",
    "    get_linear_chain_2v(),\n",
    "    parameters=pd.DataFrame({\"k1\": np.linspace(0, 1, 3)}),\n",
    "    mc_parameters=sample(\n",
    "        {\n",
    "            \"k2\": Uniform(1.0, 1.3),\n",
    "            \"k3\": LogNormal(mean=1.0, sigma=0.2),\n",
    "        },\n",
    "        n=10,\n",
    "    ),\n",
    ")\n",
    "\n",
    "plot.violins_from_2d_idx(mcss.concs)\n",
    "plt.show()"
   ]
  },
  {
   "cell_type": "code",
   "execution_count": null,
   "metadata": {},
   "outputs": [],
   "source": [
    "# FIXME: no idea how to plot this yet. Ridge plots?\n",
    "# Maybe it's just a bit much :D\n",
    "\n",
    "mcss = mc.scan_steady_state(\n",
    "    get_linear_chain_2v(),\n",
    "    parameters=mb2.cartesian_product(\n",
    "        {\n",
    "            \"k1\": np.linspace(0, 1, 3),\n",
    "            \"k2\": np.linspace(0, 1, 3),\n",
    "        }\n",
    "    ),\n",
    "    mc_parameters=sample(\n",
    "        {\n",
    "            \"k3\": LogNormal(mean=1.0, sigma=0.2),\n",
    "        },\n",
    "        n=10,\n",
    "    ),\n",
    ")\n",
    "\n",
    "mcss.concs.head()"
   ]
  },
  {
   "cell_type": "markdown",
   "metadata": {},
   "source": [
    "## Steady-state surrogates\n",
    "\n",
    "**Surrogates** allow replacing part of a system of ODEs with a surrogate.\n",
    "**Steady-state** surrogates use the fluxes at "
   ]
  },
  {
   "cell_type": "code",
   "execution_count": null,
   "metadata": {},
   "outputs": [],
   "source": [
    "# Example plot of this models behaviour\n",
    "_ = unwrap(Simulator(get_example1()).simulate(10).get_fluxes()).plot()"
   ]
  },
  {
   "cell_type": "markdown",
   "metadata": {},
   "source": [
    "### Create data"
   ]
  },
  {
   "cell_type": "code",
   "execution_count": null,
   "metadata": {},
   "outputs": [],
   "source": [
    "features = pd.DataFrame(\n",
    "    it.product(\n",
    "        np.linspace(0, 2.0, 21),\n",
    "        np.linspace(0, 2.0, 21),\n",
    "        np.linspace(0, 2.0, 21),\n",
    "    ),\n",
    "    columns=[\"x1\", \"ATP\", \"NADPH\"],\n",
    ")\n",
    "\n",
    "targets = (\n",
    "    scan.steady_state(\n",
    "        get_example1(),\n",
    "        parameters=features,\n",
    "        cache=Cache(Path(\".cache\") / \"linear\"),\n",
    "    )\n",
    "    .fluxes.loc[:, [\"x2_out\", \"x3_out\"]]\n",
    "    .fillna(0)\n",
    ")\n",
    "\n",
    "\n",
    "fig, ax = plot.violins(targets)\n",
    "ax.set(title=\"Targets\", ylabel=\"Flux / a.u.\")"
   ]
  },
  {
   "cell_type": "markdown",
   "metadata": {},
   "source": [
    "### Train Surrogate"
   ]
  },
  {
   "cell_type": "code",
   "execution_count": null,
   "metadata": {},
   "outputs": [],
   "source": [
    "surrogate, loss = train_torch_surrogate(\n",
    "    features=features,\n",
    "    targets=targets,\n",
    "    epochs=2000,\n",
    "    surrogate_inputs=[\"x1\", \"ATP\", \"NADPH\"],\n",
    "    surrogate_stoichiometries={\n",
    "        \"v2\": {\"x1\": -1, \"x2\": 1, \"ATP\": -1},\n",
    "        \"v3\": {\"x1\": -1, \"x3\": 1, \"NADPH\": -1},\n",
    "    },\n",
    ")\n",
    "\n",
    "loss.plot()"
   ]
  },
  {
   "cell_type": "markdown",
   "metadata": {},
   "source": [
    "### Get predictions of rates"
   ]
  },
  {
   "cell_type": "code",
   "execution_count": null,
   "metadata": {},
   "outputs": [],
   "source": [
    "# FIXME: why is the prediction for 0, 0, 0 not 0?\n",
    "print(surrogate.predict(np.array([0.0, 0.0, 0.0])))\n",
    "print(surrogate.predict(np.array([1.0, 0.0, 0.0])))\n",
    "print(surrogate.predict(np.array([0.0, 1.0, 0.0])))\n",
    "print(surrogate.predict(np.array([0.0, 0.0, 1.0])))\n",
    "print(surrogate.predict(np.array([1.0, 0.0, 1.0])))\n",
    "print(surrogate.predict(np.array([1.0, 1.0, 1.0])))"
   ]
  },
  {
   "cell_type": "markdown",
   "metadata": {},
   "source": [
    "### Insert surrogate into model"
   ]
  },
  {
   "cell_type": "code",
   "execution_count": null,
   "metadata": {},
   "outputs": [],
   "source": [
    "def get_tpi_model() -> Model:\n",
    "    model = Model()\n",
    "    model.add_variables(\n",
    "        {\n",
    "            \"x1\": 1.0,\n",
    "            \"x2\": 0.0,\n",
    "            \"x3\": 0.0,\n",
    "            \"ATP\": 2.0,\n",
    "            \"NADPH\": 0.1,\n",
    "        }\n",
    "    )\n",
    "\n",
    "    # Adding the surrogate\n",
    "    model.add_surrogate(\"surrogate\", surrogate)\n",
    "\n",
    "    # Note that besides the surrogate we haven't defined any other reaction!\n",
    "    # We could have though\n",
    "    return model\n",
    "\n",
    "\n",
    "# FIXME: note that NADPH get's negative\n",
    "# At least the rates seem to get 0 around the time when x1 is 0\n",
    "c, v = unwrap2(Simulator(get_tpi_model()).simulate(1.0).get_full_concs_and_fluxes())\n",
    "\n",
    "fig, (ax1, ax2) = plot.two_axes(figsize=(10, 4))\n",
    "plot.lines(c, ax=ax1)\n",
    "plot.lines(v, ax=ax2)\n",
    "ax1.set(xlabel=\"time / a.u.\", ylabel=\"concentration / a.u.\")\n",
    "ax2.set(xlabel=\"time / a.u.\", ylabel=\"flux / a.u.\")\n",
    "plt.show()"
   ]
  },
  {
   "cell_type": "markdown",
   "metadata": {},
   "source": [
    "## Neural posterior estimation"
   ]
  },
  {
   "cell_type": "markdown",
   "metadata": {},
   "source": [
    "### Create data"
   ]
  },
  {
   "cell_type": "code",
   "execution_count": null,
   "metadata": {},
   "outputs": [],
   "source": [
    "# Example plot of this models behaviour\n",
    "if (fluxes := Simulator(get_example1()).simulate(10).get_fluxes()) is not None:\n",
    "    fluxes.plot()\n",
    "    plt.show()"
   ]
  },
  {
   "cell_type": "code",
   "execution_count": null,
   "metadata": {},
   "outputs": [],
   "source": [
    "targets = sample(\n",
    "    {\n",
    "        \"x1\": LogNormal(mean=1.0, sigma=0.3),\n",
    "        \"ATP\": LogNormal(mean=0.7, sigma=0.1),\n",
    "        \"NADPH\": LogNormal(mean=0.3, sigma=0.2),\n",
    "    },\n",
    "    n=10_000,\n",
    ")\n",
    "\n",
    "time_points = np.linspace(0, 10, 11)\n",
    "\n",
    "ss_data = scan.steady_state(\n",
    "    get_example1(),\n",
    "    parameters=targets,\n",
    "    cache=Cache(Path(\".cache\") / \"npe-ss\"),\n",
    ").results\n",
    "\n",
    "\n",
    "ts_data = scan.time_course(\n",
    "    get_example1(),\n",
    "    parameters=targets,\n",
    "    time_points=time_points,\n",
    "    cache=Cache(Path(\".cache\") / \"npe-ts\"),\n",
    ").results"
   ]
  },
  {
   "cell_type": "markdown",
   "metadata": {},
   "source": [
    "### Train NPE on steady-state data\n"
   ]
  },
  {
   "cell_type": "code",
   "execution_count": null,
   "metadata": {},
   "outputs": [],
   "source": [
    "features = ss_data.loc[:, [\"x2\", \"x3\"]]\n",
    "\n",
    "estimator, losses = npe.train_torch_ss_estimator(\n",
    "    features=features,\n",
    "    targets=targets,\n",
    "    epochs=2_500,\n",
    ")\n",
    "\n",
    "ax = losses.plot()\n",
    "ax.set_ylim(0, None)"
   ]
  },
  {
   "cell_type": "code",
   "execution_count": null,
   "metadata": {},
   "outputs": [],
   "source": [
    "fig, (ax1, ax2) = plt.subplots(\n",
    "    1,\n",
    "    2,\n",
    "    figsize=(8, 3),\n",
    "    layout=\"constrained\",\n",
    "    sharex=True,\n",
    "    sharey=True,\n",
    ")\n",
    "\n",
    "ax = sns.kdeplot(targets, fill=True, ax=ax1)\n",
    "ax.set_title(\"Prior\")\n",
    "\n",
    "posterior = estimator.predict(features)\n",
    "\n",
    "ax = sns.kdeplot(posterior, fill=True, ax=ax2)\n",
    "ax.set_title(\"Posterior\")\n",
    "plt.show()"
   ]
  },
  {
   "cell_type": "markdown",
   "metadata": {},
   "source": [
    "### Train NPE on time series data"
   ]
  },
  {
   "cell_type": "code",
   "execution_count": null,
   "metadata": {},
   "outputs": [],
   "source": [
    "features = ts_data.loc[:, [\"x2\", \"x3\"]]\n",
    "\n",
    "\n",
    "estimator, losses = npe.train_torch_time_course_estimator(\n",
    "    features=features,\n",
    "    targets=targets,\n",
    "    epochs=2_500,\n",
    ")\n",
    "\n",
    "losses.plot()"
   ]
  },
  {
   "cell_type": "code",
   "execution_count": null,
   "metadata": {},
   "outputs": [],
   "source": [
    "fig, (ax1, ax2) = plt.subplots(\n",
    "    1,\n",
    "    2,\n",
    "    figsize=(8, 3),\n",
    "    layout=\"constrained\",\n",
    "    sharex=True,\n",
    "    sharey=True,\n",
    ")\n",
    "\n",
    "ax = sns.kdeplot(targets, fill=True, ax=ax1)\n",
    "ax.set_title(\"Prior\")\n",
    "\n",
    "posterior = estimator.predict(features)\n",
    "\n",
    "ax = sns.kdeplot(posterior, fill=True, ax=ax2)\n",
    "ax.set_title(\"Posterior\")\n",
    "plt.show()"
   ]
  },
  {
   "cell_type": "code",
   "execution_count": null,
   "metadata": {},
   "outputs": [],
   "source": []
  },
  {
   "cell_type": "code",
   "execution_count": null,
   "metadata": {},
   "outputs": [],
   "source": []
  },
  {
   "cell_type": "code",
   "execution_count": null,
   "metadata": {},
   "outputs": [],
   "source": []
  },
  {
   "cell_type": "markdown",
   "metadata": {},
   "source": [
    "## Label models"
   ]
  },
  {
   "cell_type": "code",
   "execution_count": null,
   "metadata": {},
   "outputs": [],
   "source": [
    "def mass_action_1(kf: float, s: float) -> float:\n",
    "    return kf * s\n",
    "\n",
    "\n",
    "def mass_action_2(kf: float, s1: float, s2: float) -> float:\n",
    "    return kf * s1 * s2\n",
    "\n",
    "\n",
    "def get_tpi_model() -> Model:\n",
    "    p = {\n",
    "        \"kf_TPI\": 1.0,\n",
    "        \"Keq_TPI\": 21.0,\n",
    "        \"kf_Ald\": 2000.0,\n",
    "        \"Keq_Ald\": 7000.0,\n",
    "    }\n",
    "    p[\"kr_TPI\"] = p[\"kf_TPI\"] / p[\"Keq_TPI\"]\n",
    "    p[\"kr_Ald\"] = p[\"kf_Ald\"] / p[\"Keq_Ald\"]\n",
    "\n",
    "    GAP0 = 2.5e-5\n",
    "    DHAP0 = GAP0 * p[\"Keq_TPI\"]\n",
    "    FBP0 = GAP0 * DHAP0 * p[\"Keq_Ald\"]\n",
    "\n",
    "    y0 = {\"GAP\": GAP0, \"DHAP\": DHAP0, \"FBP\": FBP0}\n",
    "\n",
    "    return (\n",
    "        Model()\n",
    "        .add_variables(y0)\n",
    "        .add_parameters(p)\n",
    "        .add_reaction(\n",
    "            \"TPIf\",\n",
    "            mass_action_1,\n",
    "            args=[\"kf_TPI\", \"GAP\"],\n",
    "            stoichiometry={\"GAP\": -1, \"DHAP\": 1},\n",
    "        )\n",
    "        .add_reaction(\n",
    "            \"TPIr\",\n",
    "            mass_action_1,\n",
    "            args=[\"kr_TPI\", \"DHAP\"],\n",
    "            stoichiometry={\"DHAP\": -1, \"GAP\": 1},\n",
    "        )\n",
    "        .add_reaction(\n",
    "            \"ALDf\",\n",
    "            mass_action_2,\n",
    "            args=[\"kf_Ald\", \"DHAP\", \"GAP\"],\n",
    "            stoichiometry={\"DHAP\": -1, \"GAP\": -1, \"FBP\": 1},\n",
    "        )\n",
    "        .add_reaction(\n",
    "            \"ALDr\",\n",
    "            mass_action_1,\n",
    "            args=[\"kr_Ald\", \"FBP\"],\n",
    "            stoichiometry={\n",
    "                \"FBP\": -1,\n",
    "                \"DHAP\": 1,\n",
    "                \"GAP\": 1,\n",
    "            },\n",
    "        )\n",
    "    )"
   ]
  },
  {
   "cell_type": "markdown",
   "metadata": {},
   "source": [
    "### Label mapper\n",
    "\n",
    "Labelled models allow explicitly mapping the transitions between isotopomers variables.  \n",
    "*modelbase* includes a `LabelMapper` that takes\n",
    "\n",
    "- a model\n",
    "- a dictionary mapping the variables to the amount of label positions they have\n",
    "- a transition map \n",
    "\n",
    "to auto-generate all possible `2^n` variants of the variables and reaction transitions between them.  \n",
    "\n",
    "As an example let's take triose phosphate isomerase, which catalyzes the interconversion of glyceraldehyde 3-phosphate (GAP) and dihydroxyacetone phosphate (DHAP).  \n",
    "As illustrated below, in the case of the forward reaction the first and last carbon atoms are swapped\n",
    "\n",
    "<img src=\"assets/carbon-maps.png\" style=\"max-width: 250px\">\n",
    "\n",
    "So DHAP(1) is build from GAP(3), DHAP(2) from GAP(2) and DHAP(3) from GAP(1).  \n",
    "We notate this using normal **0-based indexing** as follows\n",
    "\n",
    "```python\n",
    "label_maps = {\"TPIf\": [2, 1, 0]}\n",
    "```"
   ]
  },
  {
   "cell_type": "code",
   "execution_count": null,
   "metadata": {},
   "outputs": [],
   "source": [
    "mapper = LabelMapper(\n",
    "    get_tpi_model(),\n",
    "    label_variables={\"GAP\": 3, \"DHAP\": 3, \"FBP\": 6},\n",
    "    label_maps={\n",
    "        \"TPIf\": [2, 1, 0],\n",
    "        \"TPIr\": [2, 1, 0],\n",
    "        \"ALDf\": [0, 1, 2, 3, 4, 5],\n",
    "        \"ALDr\": [0, 1, 2, 3, 4, 5],\n",
    "    },\n",
    ")\n",
    "\n",
    "if (\n",
    "    concs := Simulator(mapper.build_model(initial_labels={\"GAP\": 0}))\n",
    "    .simulate(20)\n",
    "    .get_full_concs()\n",
    ") is not None:\n",
    "    plot.relative_label_distribution(mapper, concs, n_cols=3)"
   ]
  },
  {
   "cell_type": "markdown",
   "metadata": {},
   "source": [
    "### Linear label mapper\n",
    "\n",
    "\n",
    "The `LabelMapper` makes no assumptions about the state of the model, which causes a lot of complexity.  \n",
    "In steady-state however, the space of possible solutions is reduced and the labelling dynamics can be represented by a set of linear differential equations.  \n",
    "See [Sokol and Portais 2015](https://doi.org/10.1371/journal.pone.0144652) for the theory of dynamic label propagation under the stationary assumption.\n"
   ]
  },
  {
   "cell_type": "code",
   "execution_count": null,
   "metadata": {},
   "outputs": [],
   "source": [
    "m = get_tpi_model()\n",
    "\n",
    "concs, fluxes = unwrap2(Simulator(m).simulate(20).get_concs_and_fluxes())\n",
    "\n",
    "\n",
    "mapper = LinearLabelMapper(\n",
    "    m,\n",
    "    label_variables={\"GAP\": 3, \"DHAP\": 3, \"FBP\": 6},\n",
    "    label_maps={\n",
    "        \"TPIf\": [2, 1, 0],\n",
    "        \"TPIr\": [2, 1, 0],\n",
    "        \"ALDf\": [0, 1, 2, 3, 4, 5],\n",
    "        \"ALDr\": [0, 1, 2, 3, 4, 5],\n",
    "    },\n",
    ")\n",
    "\n",
    "if (\n",
    "    concs := (\n",
    "        Simulator(\n",
    "            mapper.build_model(\n",
    "                concs=concs.iloc[-1],\n",
    "                fluxes=fluxes.iloc[-1],\n",
    "                initial_labels={\"GAP\": 0},\n",
    "            )\n",
    "        )\n",
    "        .simulate(20)\n",
    "        .get_full_concs()\n",
    "    )\n",
    ") is not None:\n",
    "    plot.relative_label_distribution(mapper, concs, n_cols=3)"
   ]
  },
  {
   "cell_type": "markdown",
   "metadata": {},
   "source": [
    "## SBML\n",
    "\n",
    "`modelbase` supports reading and writing **sbml** models using the `sbml.read` and `sbml.write` functions."
   ]
  },
  {
   "cell_type": "code",
   "execution_count": null,
   "metadata": {},
   "outputs": [],
   "source": [
    "model = sbml.read(Path(\"assets\") / \"00001-sbml-l3v2.xml\")\n",
    "c, v = unwrap2(Simulator(model).simulate(10).get_concs_and_fluxes())\n",
    "_ = plot.lines(c)"
   ]
  },
  {
   "cell_type": "markdown",
   "metadata": {},
   "source": [
    "When exporting a model, you can supply additional meta-information like units and compartmentalisation.  \n",
    "See the [official sbml documentation](https://sbml.org/documents/) for more information of legal values."
   ]
  },
  {
   "cell_type": "code",
   "execution_count": null,
   "metadata": {},
   "outputs": [],
   "source": [
    "sbml.write(\n",
    "    linear_chain_2cpds(),\n",
    "    file=Path(\".cache\") / \"model.xml\",\n",
    "    extent_units=\"mole\",\n",
    "    substance_units=\"mole\",\n",
    "    time_units=\"second\",\n",
    ")"
   ]
  },
  {
   "cell_type": "code",
   "execution_count": null,
   "metadata": {},
   "outputs": [],
   "source": []
  }
 ],
 "metadata": {
  "kernelspec": {
   "display_name": "default",
   "language": "python",
   "name": "python3"
  },
  "language_info": {
   "codemirror_mode": {
    "name": "ipython",
    "version": 3
   },
   "file_extension": ".py",
   "mimetype": "text/x-python",
   "name": "python",
   "nbconvert_exporter": "python",
   "pygments_lexer": "ipython3",
   "version": "3.12.7"
  }
 },
 "nbformat": 4,
 "nbformat_minor": 4
}

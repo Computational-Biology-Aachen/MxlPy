{
 "cells": [
  {
   "cell_type": "code",
   "execution_count": 1,
   "metadata": {},
   "outputs": [
    {
     "name": "stderr",
     "output_type": "stream",
     "text": [
      "Could not find cannot import name 'dopri5' from 'assimulo.lib' (/home/marvin/git/modelbase2b/.pixi/envs/default/lib/python3.12/site-packages/assimulo/lib/__init__.py)\n",
      "Could not find cannot import name 'rodas' from 'assimulo.lib' (/home/marvin/git/modelbase2b/.pixi/envs/default/lib/python3.12/site-packages/assimulo/lib/__init__.py)\n",
      "Could not find cannot import name 'odassl' from 'assimulo.lib' (/home/marvin/git/modelbase2b/.pixi/envs/default/lib/python3.12/site-packages/assimulo/lib/__init__.py)\n",
      "Could not find ODEPACK functions.\n",
      "Could not find RADAR5\n",
      "Could not find GLIMDA.\n"
     ]
    }
   ],
   "source": [
    "from __future__ import annotations\n",
    "\n",
    "from modelbase2 import Model, Simulator\n",
    "from example_models import get_linear_chain_2v\n",
    "from example_models.shared import constant, mass_action_1s\n",
    "\n",
    "\n",
    "m = get_linear_chain_2v()\n",
    "# print(m.get_full_concs({\"x\": 2.0, \"y\": 1.0}), \"\\n\")\n",
    "# print(m.get_args({\"x\": 2.0, \"y\": 1.0}), \"\\n\")\n",
    "# print(m.get_fluxes({\"x\": 2.0, \"y\": 1.0}), \"\\n\")\n",
    "# print(m.get_right_hand_side({\"x\": 2.0, \"y\": 1.0}), \"\\n\")\n",
    "\n",
    "Simulator(m, {\"x\": 2.0, \"y\": 1.0}).simulate(10)\n",
    "Simulator(m, {\"x\": 2.0, \"y\": 1.0}).simulate_to_steady_state()\n",
    "\n",
    "v = Simulator(m, {\"x\": 2.0, \"y\": 1.0}).simulate_and(10).get_fluxes()\n",
    "c, v = Simulator(m, {\"x\": 2.0, \"y\": 1.0}).simulate_and(10).get_concs_and_fluxes()\n",
    "c, v = Simulator(m, {\"x\": 2.0, \"y\": 1.0}).simulate_and(10).get_full_concs_and_fluxes()"
   ]
  },
  {
   "cell_type": "code",
   "execution_count": 2,
   "metadata": {},
   "outputs": [],
   "source": [
    "def moiety_1(x1: float, total: float) -> float:\n",
    "    return total - x1\n",
    "\n",
    "\n",
    "m = (\n",
    "    Model()\n",
    "    .add_variables({\"ATP\": 1.0})\n",
    "    .add_parameters({\"ATP_total\": 1.0})\n",
    "    .add_derived(\"ADP\", moiety_1, [\"ATP\", \"ATP_total\"])\n",
    "    .add_reaction(\"ATPase\", constant, {\"ATP\": -1}, [\"ATP\"])\n",
    ")\n",
    "\n",
    "c, v = Simulator(m).simulate_and(10).get_full_concs_and_fluxes()"
   ]
  }
 ],
 "metadata": {
  "kernelspec": {
   "display_name": "default",
   "language": "python",
   "name": "python3"
  },
  "language_info": {
   "codemirror_mode": {
    "name": "ipython",
    "version": 3
   },
   "file_extension": ".py",
   "mimetype": "text/x-python",
   "name": "python",
   "nbconvert_exporter": "python",
   "pygments_lexer": "ipython3",
   "version": "3.12.7"
  }
 },
 "nbformat": 4,
 "nbformat_minor": 2
}

{
 "cells": [
  {
   "cell_type": "code",
   "execution_count": null,
   "metadata": {},
   "outputs": [],
   "source": [
    "from __future__ import annotations\n",
    "\n",
    "from example_models import get_linear_chain_2v, get_poolman2000\n",
    "from example_models.shared import constant\n",
    "\n",
    "from modelbase2 import Model, Simulator\n",
    "\n",
    "m = get_linear_chain_2v()\n",
    "# print(m.get_full_concs({\"x\": 2.0, \"y\": 1.0}), \"\\n\")\n",
    "# print(m.get_args({\"x\": 2.0, \"y\": 1.0}), \"\\n\")\n",
    "# print(m.get_fluxes({\"x\": 2.0, \"y\": 1.0}), \"\\n\")\n",
    "# print(m.get_right_hand_side({\"x\": 2.0, \"y\": 1.0}), \"\\n\")\n",
    "\n",
    "Simulator(m, {\"x\": 2.0, \"y\": 1.0}).simulate(10)\n",
    "Simulator(m, {\"x\": 2.0, \"y\": 1.0}).simulate_to_steady_state()\n",
    "\n",
    "v = Simulator(m, {\"x\": 2.0, \"y\": 1.0}).simulate(10).get_fluxes()\n",
    "c, v = Simulator(m, {\"x\": 2.0, \"y\": 1.0}).simulate(10).get_concs_and_fluxes()\n",
    "c, v = Simulator(m, {\"x\": 2.0, \"y\": 1.0}).simulate(10).get_full_concs_and_fluxes()"
   ]
  },
  {
   "cell_type": "code",
   "execution_count": null,
   "metadata": {},
   "outputs": [],
   "source": [
    "from modelbase2 import plot\n",
    "\n",
    "\n",
    "def moiety_1(x1: float, total: float) -> float:\n",
    "    return total - x1\n",
    "\n",
    "\n",
    "m = (\n",
    "    Model()\n",
    "    .add_variables({\"ATP\": 1.0})\n",
    "    .add_parameters({\"ATP_total\": 1.0})\n",
    "    .add_derived(\"ADP\", moiety_1, [\"ATP\", \"ATP_total\"])\n",
    "    .add_reaction(\"ATPase\", constant, {\"ATP\": -1}, [\"ATP\"])\n",
    ")\n",
    "\n",
    "c, v = Simulator(m).simulate(10).get_full_concs_and_fluxes()\n",
    "if c is not None:\n",
    "    plot.line(c)"
   ]
  },
  {
   "cell_type": "code",
   "execution_count": null,
   "metadata": {},
   "outputs": [],
   "source": [
    "s = Simulator(get_poolman2000())"
   ]
  }
 ],
 "metadata": {
  "kernelspec": {
   "display_name": "Python 3",
   "language": "python",
   "name": "python3"
  },
  "language_info": {
   "codemirror_mode": {
    "name": "ipython",
    "version": 3
   },
   "file_extension": ".py",
   "mimetype": "text/x-python",
   "name": "python",
   "nbconvert_exporter": "python",
   "pygments_lexer": "ipython3",
   "version": "3.12.7"
  }
 },
 "nbformat": 4,
 "nbformat_minor": 2
}

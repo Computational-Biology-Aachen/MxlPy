{
 "cells": [
  {
   "cell_type": "code",
   "execution_count": null,
   "metadata": {},
   "outputs": [],
   "source": [
    "from __future__ import annotations\n",
    "\n",
    "from modelbase2 import Model, Simulator\n",
    "\n",
    "\n",
    "def constant(x: float) -> float:\n",
    "    return x\n",
    "\n",
    "\n",
    "def mass_action_1s(x: float, k: float) -> float:\n",
    "    return k * x\n",
    "\n",
    "\n",
    "m = (\n",
    "    Model()\n",
    "    .add_variables({\"x\": 1.0, \"y\": 1.0})\n",
    "    .add_parameters({\"k1\": 1.0, \"k2\": 2.0, \"k3\": 1.0})\n",
    "    .add_reaction(\"v1\", constant, stoichiometry={\"x\": 1}, args=[\"k1\"])\n",
    "    .add_reaction(\n",
    "        \"v2\",\n",
    "        mass_action_1s,\n",
    "        stoichiometry={\"x\": -1, \"y\": 1},\n",
    "        args=[\"k2\", \"x\"],\n",
    "    )\n",
    "    .add_reaction(\n",
    "        \"v3\",\n",
    "        mass_action_1s,\n",
    "        stoichiometry={\"y\": -1},\n",
    "        args=[\"k3\", \"y\"],\n",
    "    )\n",
    ")\n",
    "\n",
    "# print(m.get_full_concs({\"x\": 2.0, \"y\": 1.0}), \"\\n\")\n",
    "# print(m.get_args({\"x\": 2.0, \"y\": 1.0}), \"\\n\")\n",
    "# print(m.get_fluxes({\"x\": 2.0, \"y\": 1.0}), \"\\n\")\n",
    "# print(m.get_right_hand_side({\"x\": 2.0, \"y\": 1.0}), \"\\n\")\n",
    "\n",
    "Simulator(m, {\"x\": 2.0, \"y\": 1.0}).simulate(10)\n",
    "Simulator(m, {\"x\": 2.0, \"y\": 1.0}).simulate_to_steady_state()"
   ]
  },
  {
   "cell_type": "code",
   "execution_count": null,
   "metadata": {},
   "outputs": [],
   "source": []
  }
 ],
 "metadata": {
  "kernelspec": {
   "display_name": "default",
   "language": "python",
   "name": "python3"
  },
  "language_info": {
   "codemirror_mode": {
    "name": "ipython",
    "version": 3
   },
   "file_extension": ".py",
   "mimetype": "text/x-python",
   "name": "python",
   "nbconvert_exporter": "python",
   "pygments_lexer": "ipython3",
   "version": "3.12.7"
  }
 },
 "nbformat": 4,
 "nbformat_minor": 2
}

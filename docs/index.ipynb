{
 "cells": [
  {
   "cell_type": "code",
   "execution_count": null,
   "metadata": {},
   "outputs": [],
   "source": [
    "from __future__ import annotations\n",
    "\n",
    "from modelbase2 import Model, Simulator\n",
    "from example_models import get_linear_chain_2v, get_poolman2000\n",
    "from example_models.shared import constant\n",
    "\n",
    "\n",
    "m = get_linear_chain_2v()\n",
    "# print(m.get_full_concs({\"x\": 2.0, \"y\": 1.0}), \"\\n\")\n",
    "# print(m.get_args({\"x\": 2.0, \"y\": 1.0}), \"\\n\")\n",
    "# print(m.get_fluxes({\"x\": 2.0, \"y\": 1.0}), \"\\n\")\n",
    "# print(m.get_right_hand_side({\"x\": 2.0, \"y\": 1.0}), \"\\n\")\n",
    "\n",
    "Simulator(m, {\"x\": 2.0, \"y\": 1.0}).simulate(10)\n",
    "Simulator(m, {\"x\": 2.0, \"y\": 1.0}).simulate_to_steady_state()\n",
    "\n",
    "v = Simulator(m, {\"x\": 2.0, \"y\": 1.0}).simulate(10).get_fluxes()\n",
    "c, v = Simulator(m, {\"x\": 2.0, \"y\": 1.0}).simulate(10).get_concs_and_fluxes()\n",
    "c, v = Simulator(m, {\"x\": 2.0, \"y\": 1.0}).simulate(10).get_full_concs_and_fluxes()"
   ]
  },
  {
   "cell_type": "code",
   "execution_count": null,
   "metadata": {},
   "outputs": [],
   "source": [
    "from modelbase2 import plot\n",
    "\n",
    "\n",
    "def moiety_1(x1: float, total: float) -> float:\n",
    "    return total - x1\n",
    "\n",
    "\n",
    "m = (\n",
    "    Model()\n",
    "    .add_variables({\"ATP\": 1.0})\n",
    "    .add_parameters({\"ATP_total\": 1.0})\n",
    "    .add_derived(\"ADP\", moiety_1, [\"ATP\", \"ATP_total\"])\n",
    "    .add_reaction(\"ATPase\", constant, {\"ATP\": -1}, [\"ATP\"])\n",
    ")\n",
    "\n",
    "c, v = Simulator(m).simulate(10).get_full_concs_and_fluxes()\n",
    "if c is not None:\n",
    "    plot.line(c)"
   ]
  },
  {
   "cell_type": "code",
   "execution_count": null,
   "metadata": {},
   "outputs": [],
   "source": [
    "s = Simulator(get_poolman2000())"
   ]
  },
  {
   "cell_type": "code",
   "execution_count": null,
   "metadata": {},
   "outputs": [],
   "source": [
    "%%prun\n",
    "\n",
    "_ = s.simulate(1000).get_full_concs_and_fluxes()"
   ]
  },
  {
   "cell_type": "code",
   "execution_count": null,
   "metadata": {},
   "outputs": [],
   "source": [
    "#          103460 function calls (102810 primitive calls) in 0.045 seconds\n",
    "\n",
    "#    Ordered by: internal time\n",
    "\n",
    "#    ncalls  tottime  percall  cumtime  percall filename:lineno(function)\n",
    "#      1276    0.003    0.000    0.016    0.000 series.py:1261(__setitem__)\n",
    "# 22709/22701    0.002    0.000    0.003    0.000 {built-in method builtins.isinstance}\n",
    "#      1284    0.002    0.000    0.002    0.000 cast.py:1760(np_can_hold_element)\n",
    "#      2560    0.001    0.000    0.002    0.000 base.py:3777(get_loc)\n",
    "#        29    0.001    0.000    0.027    0.001 model.py:619(_get_rhs)\n",
    "#      1276    0.001    0.000    0.005    0.000 series.py:1095(__getitem__)\n",
    "#      2579    0.001    0.000    0.002    0.000 indexing.py:2765(check_dict_or_set_indexers)\n",
    "#       2/1    0.001    0.001    0.020    0.020 int_assimulo.py:43(integrate)\n",
    "#      1276    0.001    0.000    0.004    0.000 base.py:341(setitem_inplace)\n",
    "#      1276    0.001    0.000    0.006    0.000 managers.py:2021(setitem_inplace)\n",
    "#      1276    0.001    0.000    0.003    0.000 series.py:1220(_get_value)\n",
    "#      1305    0.001    0.000    0.001    0.000 generic.py:6284(__getattr__)\n",
    "#      1276    0.001    0.000    0.002    0.000 series.py:1484(_check_is_chained_assignment_possible)\n",
    "#      1276    0.001    0.000    0.007    0.000 series.py:1369(_set_with_engine)"
   ]
  }
 ],
 "metadata": {
  "kernelspec": {
   "display_name": "default",
   "language": "python",
   "name": "python3"
  },
  "language_info": {
   "codemirror_mode": {
    "name": "ipython",
    "version": 3
   },
   "file_extension": ".py",
   "mimetype": "text/x-python",
   "name": "python",
   "nbconvert_exporter": "python",
   "pygments_lexer": "ipython3",
   "version": "3.12.7"
  }
 },
 "nbformat": 4,
 "nbformat_minor": 2
}
